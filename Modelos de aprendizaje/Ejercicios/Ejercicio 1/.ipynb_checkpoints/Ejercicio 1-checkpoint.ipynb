{
 "cells": [
  {
   "cell_type": "markdown",
   "metadata": {},
   "source": [
    "## Parte 1: Reglas de asociación ##"
   ]
  },
  {
   "cell_type": "markdown",
   "metadata": {},
   "source": [
    "En el “groceries.csv” contiene las transacciones recogidas durante un mes en una tienda de\n",
    "comestibles. En cada una de las filas de este archivo se encuentran los artículos comprados de\n",
    "forma conjunta por los diferentes clientes. Obtener las lista de artículos que tiene un soporte\n",
    "mínimo de 0,15. Obtener también las reglas de asociación que se pueden deducir de este\n",
    "conjunto de datos con un soporte mínimo de 0,05 y confianza de 0,25."
   ]
  },
  {
   "cell_type": "markdown",
   "metadata": {},
   "source": [
    "### Importando los datos ###"
   ]
  },
  {
   "cell_type": "code",
   "execution_count": 10,
   "metadata": {
    "collapsed": true
   },
   "outputs": [],
   "source": [
    "import csv\n",
    "import apriori"
   ]
  },
  {
   "cell_type": "code",
   "execution_count": 11,
   "metadata": {
    "collapsed": true
   },
   "outputs": [],
   "source": [
    "groceries = []\n",
    "groceries_file = csv.reader(open(\"groceries.csv\", \"rb\"))\n",
    "\n",
    "for row in groceries_file:\n",
    "\n",
    "    groceries.append(row)"
   ]
  },
  {
   "cell_type": "markdown",
   "metadata": {},
   "source": [
    "### Obteniendo los artículos con soporte mínimo de 0.15 ###"
   ]
  },
  {
   "cell_type": "code",
   "execution_count": 12,
   "metadata": {
    "collapsed": false
   },
   "outputs": [
    {
     "name": "stdout",
     "output_type": "stream",
     "text": [
      "{soda}:  sup = 0.174\n",
      "{whole milk}:  sup = 0.256\n",
      "{other vegetables}:  sup = 0.193\n",
      "{rolls/buns}:  sup = 0.184\n"
     ]
    }
   ],
   "source": [
    "F, soporte = apriori.apriori(groceries, min_support=0.15, verbose=True)"
   ]
  },
  {
   "cell_type": "markdown",
   "metadata": {},
   "source": [
    "### Obteniendo reglas de asociación ###"
   ]
  },
  {
   "cell_type": "markdown",
   "metadata": {},
   "source": [
    "Deben de tener un soporte mínimo del 0.05 y una confianza del 0.25."
   ]
  },
  {
   "cell_type": "code",
   "execution_count": 13,
   "metadata": {
    "collapsed": false,
    "scrolled": true
   },
   "outputs": [
    {
     "name": "stdout",
     "output_type": "stream",
     "text": [
      "{yogurt} ---> {whole milk}:  conf = 0.402, sup = 0.056\n",
      "{rolls/buns} ---> {whole milk}:  conf = 0.308, sup = 0.057\n",
      "{other vegetables} ---> {whole milk}:  conf = 0.387, sup = 0.075\n",
      "{whole milk} ---> {other vegetables}:  conf = 0.293, sup = 0.075\n"
     ]
    }
   ],
   "source": [
    "F, soporte = apriori.apriori(groceries, min_support=0.05)\n",
    "H = apriori.generate_rules(F, soporte, min_confidence=0.25, verbose=True)"
   ]
  },
  {
   "cell_type": "markdown",
   "metadata": {},
   "source": [
    "## Parte 2: Implementación de una regresión “stepwise” con eliminación hacia atrás. (40 puntos) ##"
   ]
  },
  {
   "cell_type": "markdown",
   "metadata": {},
   "source": [
    "Utilizando el dataset de calidad de vinos blancos, realizar una implementación del del algoritmo con eliminación hacia atrás (Backward Stepwise Regression), en el que la selección de las variables se realiza empezando con un modelo que\n",
    "utiliza todas la variables disponibles para ir eliminando en cada paso la produce el modelo menos significativo."
   ]
  },
  {
   "cell_type": "code",
   "execution_count": 14,
   "metadata": {
    "collapsed": false
   },
   "outputs": [
    {
     "name": "stdout",
     "output_type": "stream",
     "text": [
      "Using matplotlib backend: Qt5Agg\n",
      "Populating the interactive namespace from numpy and matplotlib\n"
     ]
    }
   ],
   "source": [
    "%pylab\n",
    "%matplotlib inline"
   ]
  },
  {
   "cell_type": "code",
   "execution_count": 15,
   "metadata": {
    "collapsed": false
   },
   "outputs": [
    {
     "data": {
      "text/html": [
       "<div>\n",
       "<table border=\"1\" class=\"dataframe\">\n",
       "  <thead>\n",
       "    <tr style=\"text-align: right;\">\n",
       "      <th></th>\n",
       "      <th>fixed acidity</th>\n",
       "      <th>volatile acidity</th>\n",
       "      <th>citric acid</th>\n",
       "      <th>residual sugar</th>\n",
       "      <th>chlorides</th>\n",
       "      <th>free sulfur dioxide</th>\n",
       "      <th>total sulfur dioxide</th>\n",
       "      <th>density</th>\n",
       "      <th>pH</th>\n",
       "      <th>sulphates</th>\n",
       "      <th>alcohol</th>\n",
       "      <th>quality</th>\n",
       "    </tr>\n",
       "  </thead>\n",
       "  <tbody>\n",
       "    <tr>\n",
       "      <th>count</th>\n",
       "      <td>4898.000000</td>\n",
       "      <td>4898.000000</td>\n",
       "      <td>4898.000000</td>\n",
       "      <td>4898.000000</td>\n",
       "      <td>4898.000000</td>\n",
       "      <td>4898.000000</td>\n",
       "      <td>4898.000000</td>\n",
       "      <td>4898.000000</td>\n",
       "      <td>4898.000000</td>\n",
       "      <td>4898.000000</td>\n",
       "      <td>4898.000000</td>\n",
       "      <td>4898.000000</td>\n",
       "    </tr>\n",
       "    <tr>\n",
       "      <th>mean</th>\n",
       "      <td>6.854788</td>\n",
       "      <td>0.278241</td>\n",
       "      <td>0.334192</td>\n",
       "      <td>6.391415</td>\n",
       "      <td>0.045772</td>\n",
       "      <td>35.308085</td>\n",
       "      <td>138.360657</td>\n",
       "      <td>0.994027</td>\n",
       "      <td>3.188267</td>\n",
       "      <td>0.489847</td>\n",
       "      <td>10.514267</td>\n",
       "      <td>5.877909</td>\n",
       "    </tr>\n",
       "    <tr>\n",
       "      <th>std</th>\n",
       "      <td>0.843868</td>\n",
       "      <td>0.100795</td>\n",
       "      <td>0.121020</td>\n",
       "      <td>5.072058</td>\n",
       "      <td>0.021848</td>\n",
       "      <td>17.007137</td>\n",
       "      <td>42.498065</td>\n",
       "      <td>0.002991</td>\n",
       "      <td>0.151001</td>\n",
       "      <td>0.114126</td>\n",
       "      <td>1.230621</td>\n",
       "      <td>0.885639</td>\n",
       "    </tr>\n",
       "    <tr>\n",
       "      <th>min</th>\n",
       "      <td>3.800000</td>\n",
       "      <td>0.080000</td>\n",
       "      <td>0.000000</td>\n",
       "      <td>0.600000</td>\n",
       "      <td>0.009000</td>\n",
       "      <td>2.000000</td>\n",
       "      <td>9.000000</td>\n",
       "      <td>0.987110</td>\n",
       "      <td>2.720000</td>\n",
       "      <td>0.220000</td>\n",
       "      <td>8.000000</td>\n",
       "      <td>3.000000</td>\n",
       "    </tr>\n",
       "    <tr>\n",
       "      <th>25%</th>\n",
       "      <td>6.300000</td>\n",
       "      <td>0.210000</td>\n",
       "      <td>0.270000</td>\n",
       "      <td>1.700000</td>\n",
       "      <td>0.036000</td>\n",
       "      <td>23.000000</td>\n",
       "      <td>108.000000</td>\n",
       "      <td>0.991723</td>\n",
       "      <td>3.090000</td>\n",
       "      <td>0.410000</td>\n",
       "      <td>9.500000</td>\n",
       "      <td>5.000000</td>\n",
       "    </tr>\n",
       "    <tr>\n",
       "      <th>50%</th>\n",
       "      <td>6.800000</td>\n",
       "      <td>0.260000</td>\n",
       "      <td>0.320000</td>\n",
       "      <td>5.200000</td>\n",
       "      <td>0.043000</td>\n",
       "      <td>34.000000</td>\n",
       "      <td>134.000000</td>\n",
       "      <td>0.993740</td>\n",
       "      <td>3.180000</td>\n",
       "      <td>0.470000</td>\n",
       "      <td>10.400000</td>\n",
       "      <td>6.000000</td>\n",
       "    </tr>\n",
       "    <tr>\n",
       "      <th>75%</th>\n",
       "      <td>7.300000</td>\n",
       "      <td>0.320000</td>\n",
       "      <td>0.390000</td>\n",
       "      <td>9.900000</td>\n",
       "      <td>0.050000</td>\n",
       "      <td>46.000000</td>\n",
       "      <td>167.000000</td>\n",
       "      <td>0.996100</td>\n",
       "      <td>3.280000</td>\n",
       "      <td>0.550000</td>\n",
       "      <td>11.400000</td>\n",
       "      <td>6.000000</td>\n",
       "    </tr>\n",
       "    <tr>\n",
       "      <th>max</th>\n",
       "      <td>14.200000</td>\n",
       "      <td>1.100000</td>\n",
       "      <td>1.660000</td>\n",
       "      <td>65.800000</td>\n",
       "      <td>0.346000</td>\n",
       "      <td>289.000000</td>\n",
       "      <td>440.000000</td>\n",
       "      <td>1.038980</td>\n",
       "      <td>3.820000</td>\n",
       "      <td>1.080000</td>\n",
       "      <td>14.200000</td>\n",
       "      <td>9.000000</td>\n",
       "    </tr>\n",
       "  </tbody>\n",
       "</table>\n",
       "</div>"
      ],
      "text/plain": [
       "       fixed acidity  volatile acidity  citric acid  residual sugar  \\\n",
       "count    4898.000000       4898.000000  4898.000000     4898.000000   \n",
       "mean        6.854788          0.278241     0.334192        6.391415   \n",
       "std         0.843868          0.100795     0.121020        5.072058   \n",
       "min         3.800000          0.080000     0.000000        0.600000   \n",
       "25%         6.300000          0.210000     0.270000        1.700000   \n",
       "50%         6.800000          0.260000     0.320000        5.200000   \n",
       "75%         7.300000          0.320000     0.390000        9.900000   \n",
       "max        14.200000          1.100000     1.660000       65.800000   \n",
       "\n",
       "         chlorides  free sulfur dioxide  total sulfur dioxide      density  \\\n",
       "count  4898.000000          4898.000000           4898.000000  4898.000000   \n",
       "mean      0.045772            35.308085            138.360657     0.994027   \n",
       "std       0.021848            17.007137             42.498065     0.002991   \n",
       "min       0.009000             2.000000              9.000000     0.987110   \n",
       "25%       0.036000            23.000000            108.000000     0.991723   \n",
       "50%       0.043000            34.000000            134.000000     0.993740   \n",
       "75%       0.050000            46.000000            167.000000     0.996100   \n",
       "max       0.346000           289.000000            440.000000     1.038980   \n",
       "\n",
       "                pH    sulphates      alcohol      quality  \n",
       "count  4898.000000  4898.000000  4898.000000  4898.000000  \n",
       "mean      3.188267     0.489847    10.514267     5.877909  \n",
       "std       0.151001     0.114126     1.230621     0.885639  \n",
       "min       2.720000     0.220000     8.000000     3.000000  \n",
       "25%       3.090000     0.410000     9.500000     5.000000  \n",
       "50%       3.180000     0.470000    10.400000     6.000000  \n",
       "75%       3.280000     0.550000    11.400000     6.000000  \n",
       "max       3.820000     1.080000    14.200000     9.000000  "
      ]
     },
     "execution_count": 15,
     "metadata": {},
     "output_type": "execute_result"
    }
   ],
   "source": [
    "import pandas as pd\n",
    "\n",
    "wine = pd.read_csv('winequality-white.csv', sep = ';')\n",
    "wine.describe()"
   ]
  },
  {
   "cell_type": "code",
   "execution_count": 16,
   "metadata": {
    "collapsed": true
   },
   "outputs": [],
   "source": [
    "from sklearn.linear_model import LinearRegression\n",
    "from sklearn.cross_validation import train_test_split\n",
    "\n",
    "# Separación de la variable objetivo y las explicativas\n",
    "target = 'quality'\n",
    "features = list(wine.columns)\n",
    "features.remove('quality')\n",
    "\n",
    "x = wine[features]\n",
    "y = wine[target]"
   ]
  },
  {
   "cell_type": "code",
   "execution_count": 17,
   "metadata": {
    "collapsed": false,
    "scrolled": false
   },
   "outputs": [],
   "source": [
    "def backward_regression(x, y):\n",
    "    \n",
    "    # Obtencion del conjunto de datos para validación\n",
    "    x_train, x_test, y_train, y_test = train_test_split(x, y)\n",
    "\n",
    "    # Modelo para realizar los ajustes\n",
    "    model = LinearRegression()\n",
    "\n",
    "    # Almacenará todas las características y se irán eliminando por cada iteración\n",
    "    features_aux = features[:]\n",
    "\n",
    "    # Almacenará las características en el orden que se vayan eliminando\n",
    "    features_sol = []\n",
    "\n",
    "    # Contendrá el mínimo error de todas las posibilidades\n",
    "    min_error = 1\n",
    "    # Contendrá el nombre de la característica a borrar, es decir, la que al eliminarla genere\n",
    "    # el modelo con menor error\n",
    "    feature_remove = \"\"\n",
    "\n",
    "    # Mientras queden características por eliminar\n",
    "    while(len(features_aux) > 1):\n",
    "\n",
    "        print(\"Todas las caracteristicas: \" + str(features_aux) + \"\\n\")\n",
    "\n",
    "        # Para cada característica de la lista\n",
    "        for i in features_aux:\n",
    "\n",
    "            # Se escogen todas las que hay menos esa característica\n",
    "            features_aux2 = features_aux[:]    \n",
    "            features_aux2.remove(i)\n",
    "\n",
    "            # Se escogen los datos\n",
    "            use_train = x_train[features_aux2]\n",
    "            use_test = x_test[features_aux2]\n",
    "\n",
    "            # Se entrena el modelo y se obtiene el error\n",
    "            model.fit(use_train, y_train)\n",
    "            rmsError = np.linalg.norm((y_test - model.predict(use_test)), 2)/ sqrt(len(y_test))\n",
    "            print(\"Tras eliminar caracteristica: \" + i + \", Error: \" + str(rmsError))\n",
    "\n",
    "            # Se guardará la característica que, al quitarla (i seleccionada), de un menor error (mejor modelo),\n",
    "            # para obtener la mejor combinación de características.\n",
    "            if rmsError < min_error:\n",
    "                min_error = rmsError\n",
    "                feature_remove = i\n",
    "\n",
    "        print(\"\\nVariable a eliminar: \" + feature_remove + \" con un error de: \" + str(min_error))\n",
    "        # Se elimina la característica para la siguiente iteración y se añade a la lista solución\n",
    "        features_aux.remove(feature_remove)\n",
    "        features_sol.append(feature_remove)\n",
    "\n",
    "        # Se reinicializan las variables acumuladoras\n",
    "        feature_remove = \"\"\n",
    "        min_error = 1\n",
    "\n",
    "        print(\"--------------------------------------------------------\\n\")\n",
    "\n",
    "    # En este punto el algoritmo habrá terminado dejando en la lista una única característica (la última).\n",
    "    # Por lo tanto, hay que añadirla para completar la lista final\n",
    "    features_sol.append(features_aux[0])\n",
    "\n",
    "    # Se muestra el resultado.\n",
    "    print(\"Solucion (orden de variables) : \" + str(features_sol))\n",
    "    "
   ]
  },
  {
   "cell_type": "code",
   "execution_count": 18,
   "metadata": {
    "collapsed": false
   },
   "outputs": [
    {
     "name": "stdout",
     "output_type": "stream",
     "text": [
      "Todas las caracteristicas: ['fixed acidity', 'volatile acidity', 'citric acid', 'residual sugar', 'chlorides', 'free sulfur dioxide', 'total sulfur dioxide', 'density', 'pH', 'sulphates', 'alcohol']\n",
      "\n",
      "Tras eliminar caracteristica: fixed acidity, Error: 0.771398837409\n",
      "Tras eliminar caracteristica: volatile acidity, Error: 0.793830998946\n",
      "Tras eliminar caracteristica: citric acid, Error: 0.776361721633\n",
      "Tras eliminar caracteristica: residual sugar, Error: 0.780504168803\n",
      "Tras eliminar caracteristica: chlorides, Error: 0.776501814193\n",
      "Tras eliminar caracteristica: free sulfur dioxide, Error: 0.780002433854\n",
      "Tras eliminar caracteristica: total sulfur dioxide, Error: 0.776686095926\n",
      "Tras eliminar caracteristica: density, Error: 0.775274930553\n",
      "Tras eliminar caracteristica: pH, Error: 0.770355371076\n",
      "Tras eliminar caracteristica: sulphates, Error: 0.775811910119\n",
      "Tras eliminar caracteristica: alcohol, Error: 0.788961974113\n",
      "\n",
      "Variable a eliminar: pH con un error de: 0.770355371076\n",
      "--------------------------------------------------------\n",
      "\n",
      "Todas las caracteristicas: ['fixed acidity', 'volatile acidity', 'citric acid', 'residual sugar', 'chlorides', 'free sulfur dioxide', 'total sulfur dioxide', 'density', 'sulphates', 'alcohol']\n",
      "\n",
      "Tras eliminar caracteristica: fixed acidity, Error: 0.770653439688\n",
      "Tras eliminar caracteristica: volatile acidity, Error: 0.790578407561\n",
      "Tras eliminar caracteristica: citric acid, Error: 0.770356433064\n",
      "Tras eliminar caracteristica: residual sugar, Error: 0.779908729009\n",
      "Tras eliminar caracteristica: chlorides, Error: 0.770022710923\n",
      "Tras eliminar caracteristica: free sulfur dioxide, Error: 0.773809543842\n",
      "Tras eliminar caracteristica: total sulfur dioxide, Error: 0.769928509752\n",
      "Tras eliminar caracteristica: density, Error: 0.77349375848\n",
      "Tras eliminar caracteristica: sulphates, Error: 0.772078816135\n",
      "Tras eliminar caracteristica: alcohol, Error: 0.798493882485\n",
      "\n",
      "Variable a eliminar: total sulfur dioxide con un error de: 0.769928509752\n",
      "--------------------------------------------------------\n",
      "\n",
      "Todas las caracteristicas: ['fixed acidity', 'volatile acidity', 'citric acid', 'residual sugar', 'chlorides', 'free sulfur dioxide', 'density', 'sulphates', 'alcohol']\n",
      "\n",
      "Tras eliminar caracteristica: fixed acidity, Error: 0.770282210792\n",
      "Tras eliminar caracteristica: volatile acidity, Error: 0.790114657596\n",
      "Tras eliminar caracteristica: citric acid, Error: 0.769933179291\n",
      "Tras eliminar caracteristica: residual sugar, Error: 0.778944921317\n",
      "Tras eliminar caracteristica: chlorides, Error: 0.769570835424\n",
      "Tras eliminar caracteristica: free sulfur dioxide, Error: 0.774601974393\n",
      "Tras eliminar caracteristica: density, Error: 0.772877973742\n",
      "Tras eliminar caracteristica: sulphates, Error: 0.77167347273\n",
      "Tras eliminar caracteristica: alcohol, Error: 0.798502697474\n",
      "\n",
      "Variable a eliminar: chlorides con un error de: 0.769570835424\n",
      "--------------------------------------------------------\n",
      "\n",
      "Todas las caracteristicas: ['fixed acidity', 'volatile acidity', 'citric acid', 'residual sugar', 'free sulfur dioxide', 'density', 'sulphates', 'alcohol']\n",
      "\n",
      "Tras eliminar caracteristica: fixed acidity, Error: 0.769905705255\n",
      "Tras eliminar caracteristica: volatile acidity, Error: 0.789621075378\n",
      "Tras eliminar caracteristica: citric acid, Error: 0.769563724833\n",
      "Tras eliminar caracteristica: residual sugar, Error: 0.778948503582\n",
      "Tras eliminar caracteristica: free sulfur dioxide, Error: 0.774153852465\n",
      "Tras eliminar caracteristica: density, Error: 0.772632495288\n",
      "Tras eliminar caracteristica: sulphates, Error: 0.771420680814\n",
      "Tras eliminar caracteristica: alcohol, Error: 0.799299767382\n",
      "\n",
      "Variable a eliminar: citric acid con un error de: 0.769563724833\n",
      "--------------------------------------------------------\n",
      "\n",
      "Todas las caracteristicas: ['fixed acidity', 'volatile acidity', 'residual sugar', 'free sulfur dioxide', 'density', 'sulphates', 'alcohol']\n",
      "\n",
      "Tras eliminar caracteristica: fixed acidity, Error: 0.769960022993\n",
      "Tras eliminar caracteristica: volatile acidity, Error: 0.790028544791\n",
      "Tras eliminar caracteristica: residual sugar, Error: 0.778970262007\n",
      "Tras eliminar caracteristica: free sulfur dioxide, Error: 0.774104899323\n",
      "Tras eliminar caracteristica: density, Error: 0.77266688435\n",
      "Tras eliminar caracteristica: sulphates, Error: 0.771422825271\n",
      "Tras eliminar caracteristica: alcohol, Error: 0.79925098899\n",
      "\n",
      "Variable a eliminar: fixed acidity con un error de: 0.769960022993\n",
      "--------------------------------------------------------\n",
      "\n",
      "Todas las caracteristicas: ['volatile acidity', 'residual sugar', 'free sulfur dioxide', 'density', 'sulphates', 'alcohol']\n",
      "\n",
      "Tras eliminar caracteristica: volatile acidity, Error: 0.790033350893\n",
      "Tras eliminar caracteristica: residual sugar, Error: 0.781723145361\n",
      "Tras eliminar caracteristica: free sulfur dioxide, Error: 0.774730821404\n",
      "Tras eliminar caracteristica: density, Error: 0.774736369183\n",
      "Tras eliminar caracteristica: sulphates, Error: 0.771916062531\n",
      "Tras eliminar caracteristica: alcohol, Error: 0.800477278821\n",
      "\n",
      "Variable a eliminar: sulphates con un error de: 0.771916062531\n",
      "--------------------------------------------------------\n",
      "\n",
      "Todas las caracteristicas: ['volatile acidity', 'residual sugar', 'free sulfur dioxide', 'density', 'alcohol']\n",
      "\n",
      "Tras eliminar caracteristica: volatile acidity, Error: 0.793623987869\n",
      "Tras eliminar caracteristica: residual sugar, Error: 0.781975100196\n",
      "Tras eliminar caracteristica: free sulfur dioxide, Error: 0.777563382205\n",
      "Tras eliminar caracteristica: density, Error: 0.775534401565\n",
      "Tras eliminar caracteristica: alcohol, Error: 0.806687639154\n",
      "\n",
      "Variable a eliminar: density con un error de: 0.775534401565\n",
      "--------------------------------------------------------\n",
      "\n",
      "Todas las caracteristicas: ['volatile acidity', 'residual sugar', 'free sulfur dioxide', 'alcohol']\n",
      "\n",
      "Tras eliminar caracteristica: volatile acidity, Error: 0.799975143642\n",
      "Tras eliminar caracteristica: residual sugar, Error: 0.784227240112\n",
      "Tras eliminar caracteristica: free sulfur dioxide, Error: 0.781683600901\n",
      "Tras eliminar caracteristica: alcohol, Error: 0.901271468979\n",
      "\n",
      "Variable a eliminar: free sulfur dioxide con un error de: 0.781683600901\n",
      "--------------------------------------------------------\n",
      "\n",
      "Todas las caracteristicas: ['volatile acidity', 'residual sugar', 'alcohol']\n",
      "\n",
      "Tras eliminar caracteristica: volatile acidity, Error: 0.810129338673\n",
      "Tras eliminar caracteristica: residual sugar, Error: 0.795304989667\n",
      "Tras eliminar caracteristica: alcohol, Error: 0.90043130593\n",
      "\n",
      "Variable a eliminar: residual sugar con un error de: 0.795304989667\n",
      "--------------------------------------------------------\n",
      "\n",
      "Todas las caracteristicas: ['volatile acidity', 'alcohol']\n",
      "\n",
      "Tras eliminar caracteristica: volatile acidity, Error: 0.817723470487\n",
      "Tras eliminar caracteristica: alcohol, Error: 0.901859190656\n",
      "\n",
      "Variable a eliminar: volatile acidity con un error de: 0.817723470487\n",
      "--------------------------------------------------------\n",
      "\n",
      "Solucion (orden de variables) : ['pH', 'total sulfur dioxide', 'chlorides', 'citric acid', 'fixed acidity', 'sulphates', 'density', 'free sulfur dioxide', 'residual sugar', 'volatile acidity', 'alcohol']\n"
     ]
    }
   ],
   "source": [
    "# Probando el ejercicio\n",
    "backward_regression(x, y)"
   ]
  },
  {
   "cell_type": "markdown",
   "metadata": {},
   "source": [
    "## Parte 3: Predicción de la miopía en una población. (50 puntos) ##"
   ]
  },
  {
   "cell_type": "markdown",
   "metadata": {},
   "source": [
    "El archivo “myopia.csv” contiene los datos de un estudio realizado durante 5 años en los que se\n",
    "siguió la salud ocular de una población. Los registros se corresponde con los valores tomados\n",
    "inicialmente estudio y una variable \"MYOPIC\" en la que registra si al sujeto se le diagnostico\n",
    "miopía durante el estudio. \n",
    "\n",
    "Las variables son:\n",
    "\n",
    "- ID: Identificador ID\n",
    "- STUDYYEAR: Año en los que se inició el estudio\n",
    "- MYOPIC: Desarrollo miopía dentro de los primeros cinco años\n",
    "- AGE: Edad a primera visita\n",
    "- GENDER: Genero\n",
    "- SPHEQ: Refracción esférica equivalente\n",
    "- AL: Longitud Axial\n",
    "- ACD: Profundidad de cámara anterior\n",
    "- LT: Grosor de la lente\n",
    "- VCD: Profundidad de cámara vítrea\n",
    "- SPORTHR: ¿Cuántas horas por semana fuera de la escuela el niño participó en deportes o actividades al aire libre?\n",
    "- READHR: ¿Cuántas horas por semana fuera de la escuela el niño pasó leyendo por placer?\n",
    "- COMPHR: ¿Cuántas horas por semana fuera de la escuela el niño pasó jugando a videojuegos de ordenador o trabajando en el ordenador?\n",
    "- STUDYHR: ¿Cuántas horas por semana fuera de escuela el niño pasa leyendo o estudiando para tareas escolares?\n",
    "- TVHR: ¿Cuántas horas por semana fuera de la escuela el niño pasó mirando televisión?\n",
    "- DIOPTERHR: Compendio de horas de actividades de trabajo cercano que se define como:\n",
    "    - DIOPTERHR = 3 * (READHR + STUDYHR) + 2 * COMPHR + TVHR\n",
    "- MOMMY: ¿La madre del sujeto es miope?\n",
    "- DADMY: ¿El padre del sujeto es miope?\n",
    "\n",
    "Crear un modelo que pueda predecir la aparición de miopía en el conjunto de estudio."
   ]
  },
  {
   "cell_type": "markdown",
   "metadata": {},
   "source": [
    "## Importando los datos ##"
   ]
  },
  {
   "cell_type": "code",
   "execution_count": 19,
   "metadata": {
    "collapsed": false
   },
   "outputs": [
    {
     "name": "stdout",
     "output_type": "stream",
     "text": [
      "Using matplotlib backend: Qt5Agg\n",
      "Populating the interactive namespace from numpy and matplotlib\n"
     ]
    },
    {
     "data": {
      "text/html": [
       "<div>\n",
       "<table border=\"1\" class=\"dataframe\">\n",
       "  <thead>\n",
       "    <tr style=\"text-align: right;\">\n",
       "      <th></th>\n",
       "      <th>ID</th>\n",
       "      <th>STUDYYEAR</th>\n",
       "      <th>MYOPIC</th>\n",
       "      <th>AGE</th>\n",
       "      <th>GENDER</th>\n",
       "      <th>SPHEQ</th>\n",
       "      <th>AL</th>\n",
       "      <th>ACD</th>\n",
       "      <th>LT</th>\n",
       "      <th>VCD</th>\n",
       "      <th>SPORTHR</th>\n",
       "      <th>READHR</th>\n",
       "      <th>COMPHR</th>\n",
       "      <th>STUDYHR</th>\n",
       "      <th>TVHR</th>\n",
       "      <th>DIOPTERHR</th>\n",
       "      <th>MOMMY</th>\n",
       "      <th>DADMY</th>\n",
       "    </tr>\n",
       "  </thead>\n",
       "  <tbody>\n",
       "    <tr>\n",
       "      <th>0</th>\n",
       "      <td>1</td>\n",
       "      <td>1992</td>\n",
       "      <td>1</td>\n",
       "      <td>6</td>\n",
       "      <td>1</td>\n",
       "      <td>-0.052</td>\n",
       "      <td>21.89</td>\n",
       "      <td>3.690</td>\n",
       "      <td>3.498</td>\n",
       "      <td>14.70</td>\n",
       "      <td>45</td>\n",
       "      <td>8</td>\n",
       "      <td>0</td>\n",
       "      <td>0</td>\n",
       "      <td>10</td>\n",
       "      <td>34</td>\n",
       "      <td>1</td>\n",
       "      <td>1</td>\n",
       "    </tr>\n",
       "    <tr>\n",
       "      <th>1</th>\n",
       "      <td>2</td>\n",
       "      <td>1995</td>\n",
       "      <td>0</td>\n",
       "      <td>6</td>\n",
       "      <td>1</td>\n",
       "      <td>0.608</td>\n",
       "      <td>22.38</td>\n",
       "      <td>3.702</td>\n",
       "      <td>3.392</td>\n",
       "      <td>15.29</td>\n",
       "      <td>4</td>\n",
       "      <td>0</td>\n",
       "      <td>1</td>\n",
       "      <td>1</td>\n",
       "      <td>7</td>\n",
       "      <td>12</td>\n",
       "      <td>1</td>\n",
       "      <td>1</td>\n",
       "    </tr>\n",
       "    <tr>\n",
       "      <th>2</th>\n",
       "      <td>3</td>\n",
       "      <td>1991</td>\n",
       "      <td>0</td>\n",
       "      <td>6</td>\n",
       "      <td>1</td>\n",
       "      <td>1.179</td>\n",
       "      <td>22.49</td>\n",
       "      <td>3.462</td>\n",
       "      <td>3.514</td>\n",
       "      <td>15.52</td>\n",
       "      <td>14</td>\n",
       "      <td>0</td>\n",
       "      <td>2</td>\n",
       "      <td>0</td>\n",
       "      <td>10</td>\n",
       "      <td>14</td>\n",
       "      <td>0</td>\n",
       "      <td>0</td>\n",
       "    </tr>\n",
       "    <tr>\n",
       "      <th>3</th>\n",
       "      <td>4</td>\n",
       "      <td>1990</td>\n",
       "      <td>1</td>\n",
       "      <td>6</td>\n",
       "      <td>1</td>\n",
       "      <td>0.525</td>\n",
       "      <td>22.20</td>\n",
       "      <td>3.862</td>\n",
       "      <td>3.612</td>\n",
       "      <td>14.73</td>\n",
       "      <td>18</td>\n",
       "      <td>11</td>\n",
       "      <td>0</td>\n",
       "      <td>0</td>\n",
       "      <td>4</td>\n",
       "      <td>37</td>\n",
       "      <td>0</td>\n",
       "      <td>1</td>\n",
       "    </tr>\n",
       "    <tr>\n",
       "      <th>4</th>\n",
       "      <td>5</td>\n",
       "      <td>1995</td>\n",
       "      <td>0</td>\n",
       "      <td>5</td>\n",
       "      <td>0</td>\n",
       "      <td>0.697</td>\n",
       "      <td>23.29</td>\n",
       "      <td>3.676</td>\n",
       "      <td>3.454</td>\n",
       "      <td>16.16</td>\n",
       "      <td>14</td>\n",
       "      <td>0</td>\n",
       "      <td>0</td>\n",
       "      <td>0</td>\n",
       "      <td>4</td>\n",
       "      <td>4</td>\n",
       "      <td>1</td>\n",
       "      <td>0</td>\n",
       "    </tr>\n",
       "  </tbody>\n",
       "</table>\n",
       "</div>"
      ],
      "text/plain": [
       "   ID  STUDYYEAR  MYOPIC  AGE  GENDER  SPHEQ     AL    ACD     LT    VCD  \\\n",
       "0   1       1992       1    6       1 -0.052  21.89  3.690  3.498  14.70   \n",
       "1   2       1995       0    6       1  0.608  22.38  3.702  3.392  15.29   \n",
       "2   3       1991       0    6       1  1.179  22.49  3.462  3.514  15.52   \n",
       "3   4       1990       1    6       1  0.525  22.20  3.862  3.612  14.73   \n",
       "4   5       1995       0    5       0  0.697  23.29  3.676  3.454  16.16   \n",
       "\n",
       "   SPORTHR  READHR  COMPHR  STUDYHR  TVHR  DIOPTERHR  MOMMY  DADMY  \n",
       "0       45       8       0        0    10         34      1      1  \n",
       "1        4       0       1        1     7         12      1      1  \n",
       "2       14       0       2        0    10         14      0      0  \n",
       "3       18      11       0        0     4         37      0      1  \n",
       "4       14       0       0        0     4          4      1      0  "
      ]
     },
     "execution_count": 19,
     "metadata": {},
     "output_type": "execute_result"
    }
   ],
   "source": [
    "%pylab\n",
    "%matplotlib inline\n",
    "import pandas as pd\n",
    "df = pd.read_csv(\"myopia.csv\", sep = \";\")\n",
    "df.head(5)"
   ]
  },
  {
   "cell_type": "markdown",
   "metadata": {},
   "source": [
    "## Identificar variable objetivo y cálculo de nulos ##"
   ]
  },
  {
   "cell_type": "code",
   "execution_count": 20,
   "metadata": {
    "collapsed": true
   },
   "outputs": [],
   "source": [
    "# Separar variable objetivo de las explicativas\n",
    "target = 'MYOPIC'\n",
    "features = list(df.columns)\n",
    "features.remove(target)"
   ]
  },
  {
   "cell_type": "code",
   "execution_count": 21,
   "metadata": {
    "collapsed": false
   },
   "outputs": [
    {
     "data": {
      "text/plain": [
       "ID           0\n",
       "STUDYYEAR    0\n",
       "MYOPIC       0\n",
       "AGE          0\n",
       "GENDER       0\n",
       "SPHEQ        0\n",
       "AL           0\n",
       "ACD          0\n",
       "LT           0\n",
       "VCD          0\n",
       "SPORTHR      0\n",
       "READHR       0\n",
       "COMPHR       0\n",
       "STUDYHR      0\n",
       "TVHR         0\n",
       "DIOPTERHR    0\n",
       "MOMMY        0\n",
       "DADMY        0\n",
       "dtype: int64"
      ]
     },
     "execution_count": 21,
     "metadata": {},
     "output_type": "execute_result"
    }
   ],
   "source": [
    "# Se observa si existe nulos en las variables\n",
    "sum(isnan(df))"
   ]
  },
  {
   "cell_type": "markdown",
   "metadata": {},
   "source": [
    "No existen nulos en ninguna de las variables."
   ]
  },
  {
   "cell_type": "markdown",
   "metadata": {
    "collapsed": true
   },
   "source": [
    "### Eliminando variables identificadoras ###"
   ]
  },
  {
   "cell_type": "code",
   "execution_count": 22,
   "metadata": {
    "collapsed": true
   },
   "outputs": [],
   "source": [
    "# La variable id es identificadora, por lo que se elimina del conjunto de características.\n",
    "features.remove(\"ID\")"
   ]
  },
  {
   "cell_type": "markdown",
   "metadata": {},
   "source": [
    "#### Analizando variables discretas ####"
   ]
  },
  {
   "cell_type": "code",
   "execution_count": 23,
   "metadata": {
    "collapsed": false
   },
   "outputs": [
    {
     "data": {
      "text/html": [
       "<div>\n",
       "<table border=\"1\" class=\"dataframe\">\n",
       "  <thead>\n",
       "    <tr style=\"text-align: right;\">\n",
       "      <th></th>\n",
       "      <th>STUDYYEAR</th>\n",
       "      <th>AGE</th>\n",
       "      <th>GENDER</th>\n",
       "      <th>SPHEQ</th>\n",
       "      <th>AL</th>\n",
       "      <th>ACD</th>\n",
       "      <th>LT</th>\n",
       "      <th>VCD</th>\n",
       "      <th>SPORTHR</th>\n",
       "      <th>READHR</th>\n",
       "      <th>COMPHR</th>\n",
       "      <th>STUDYHR</th>\n",
       "      <th>TVHR</th>\n",
       "      <th>DIOPTERHR</th>\n",
       "      <th>MOMMY</th>\n",
       "      <th>DADMY</th>\n",
       "    </tr>\n",
       "  </thead>\n",
       "  <tbody>\n",
       "    <tr>\n",
       "      <th>0</th>\n",
       "      <td>1992</td>\n",
       "      <td>6</td>\n",
       "      <td>1</td>\n",
       "      <td>-0.052</td>\n",
       "      <td>21.89</td>\n",
       "      <td>3.690</td>\n",
       "      <td>3.498</td>\n",
       "      <td>14.70</td>\n",
       "      <td>45</td>\n",
       "      <td>8</td>\n",
       "      <td>0</td>\n",
       "      <td>0</td>\n",
       "      <td>10</td>\n",
       "      <td>34</td>\n",
       "      <td>1</td>\n",
       "      <td>1</td>\n",
       "    </tr>\n",
       "    <tr>\n",
       "      <th>1</th>\n",
       "      <td>1995</td>\n",
       "      <td>6</td>\n",
       "      <td>1</td>\n",
       "      <td>0.608</td>\n",
       "      <td>22.38</td>\n",
       "      <td>3.702</td>\n",
       "      <td>3.392</td>\n",
       "      <td>15.29</td>\n",
       "      <td>4</td>\n",
       "      <td>0</td>\n",
       "      <td>1</td>\n",
       "      <td>1</td>\n",
       "      <td>7</td>\n",
       "      <td>12</td>\n",
       "      <td>1</td>\n",
       "      <td>1</td>\n",
       "    </tr>\n",
       "    <tr>\n",
       "      <th>2</th>\n",
       "      <td>1991</td>\n",
       "      <td>6</td>\n",
       "      <td>1</td>\n",
       "      <td>1.179</td>\n",
       "      <td>22.49</td>\n",
       "      <td>3.462</td>\n",
       "      <td>3.514</td>\n",
       "      <td>15.52</td>\n",
       "      <td>14</td>\n",
       "      <td>0</td>\n",
       "      <td>2</td>\n",
       "      <td>0</td>\n",
       "      <td>10</td>\n",
       "      <td>14</td>\n",
       "      <td>0</td>\n",
       "      <td>0</td>\n",
       "    </tr>\n",
       "    <tr>\n",
       "      <th>3</th>\n",
       "      <td>1990</td>\n",
       "      <td>6</td>\n",
       "      <td>1</td>\n",
       "      <td>0.525</td>\n",
       "      <td>22.20</td>\n",
       "      <td>3.862</td>\n",
       "      <td>3.612</td>\n",
       "      <td>14.73</td>\n",
       "      <td>18</td>\n",
       "      <td>11</td>\n",
       "      <td>0</td>\n",
       "      <td>0</td>\n",
       "      <td>4</td>\n",
       "      <td>37</td>\n",
       "      <td>0</td>\n",
       "      <td>1</td>\n",
       "    </tr>\n",
       "    <tr>\n",
       "      <th>4</th>\n",
       "      <td>1995</td>\n",
       "      <td>5</td>\n",
       "      <td>0</td>\n",
       "      <td>0.697</td>\n",
       "      <td>23.29</td>\n",
       "      <td>3.676</td>\n",
       "      <td>3.454</td>\n",
       "      <td>16.16</td>\n",
       "      <td>14</td>\n",
       "      <td>0</td>\n",
       "      <td>0</td>\n",
       "      <td>0</td>\n",
       "      <td>4</td>\n",
       "      <td>4</td>\n",
       "      <td>1</td>\n",
       "      <td>0</td>\n",
       "    </tr>\n",
       "  </tbody>\n",
       "</table>\n",
       "</div>"
      ],
      "text/plain": [
       "   STUDYYEAR  AGE  GENDER  SPHEQ     AL    ACD     LT    VCD  SPORTHR  READHR  \\\n",
       "0       1992    6       1 -0.052  21.89  3.690  3.498  14.70       45       8   \n",
       "1       1995    6       1  0.608  22.38  3.702  3.392  15.29        4       0   \n",
       "2       1991    6       1  1.179  22.49  3.462  3.514  15.52       14       0   \n",
       "3       1990    6       1  0.525  22.20  3.862  3.612  14.73       18      11   \n",
       "4       1995    5       0  0.697  23.29  3.676  3.454  16.16       14       0   \n",
       "\n",
       "   COMPHR  STUDYHR  TVHR  DIOPTERHR  MOMMY  DADMY  \n",
       "0       0        0    10         34      1      1  \n",
       "1       1        1     7         12      1      1  \n",
       "2       2        0    10         14      0      0  \n",
       "3       0        0     4         37      0      1  \n",
       "4       0        0     4          4      1      0  "
      ]
     },
     "execution_count": 23,
     "metadata": {},
     "output_type": "execute_result"
    }
   ],
   "source": [
    "df[features].head(5)"
   ]
  },
  {
   "cell_type": "markdown",
   "metadata": {},
   "source": [
    "Se observan que las variables discretas son:\n",
    "- STUDYYEAR\n",
    "- AGE\n",
    "- GENDER\n",
    "- SPORTHR\n",
    "- READHR\n",
    "- COMPHR\n",
    "- STUDYHR\n",
    "- TVHR\n",
    "- DIOPTERHR\n",
    "- MOMMY\n",
    "- DADMY"
   ]
  },
  {
   "cell_type": "code",
   "execution_count": 24,
   "metadata": {
    "collapsed": false
   },
   "outputs": [
    {
     "name": "stdout",
     "output_type": "stream",
     "text": [
      "Tabla de frecuencias para: STUDYYEAR\n",
      "STUDYYEAR  1990  1991  1992  1993  1994  1995\n",
      "MYOPIC                                       \n",
      "0           114    88    78    90    88    79\n",
      "1            17     9    10    21    15     9\n",
      "\n",
      "Tabla de frecuencias para: AGE\n",
      "AGE      5    6   7   8  9\n",
      "MYOPIC                    \n",
      "0       17  398  73  45  4\n",
      "1        4   58   9   8  2\n",
      "\n",
      "Tabla de frecuencias para: GENDER\n",
      "GENDER    0    1\n",
      "MYOPIC          \n",
      "0       281  256\n",
      "1        35   46\n",
      "\n",
      "Tabla de frecuencias para: SPORTHR\n",
      "SPORTHR  0   1   2   3   4   5   6   7   8   9  ...  30  31  32  33  35  36  \\\n",
      "MYOPIC                                          ...                           \n",
      "0         8   4  19  16  31  35  30  33  30  18 ...  10   2   0   1   5   1   \n",
      "1         3   3   6  10   2   6   2   7   2   2 ...   0   0   1   0   0   0   \n",
      "\n",
      "SPORTHR  39  40  41  45  \n",
      "MYOPIC                   \n",
      "0         1   1   2   0  \n",
      "1         0   0   0   1  \n",
      "\n",
      "[2 rows x 40 columns]\n",
      "\n",
      "Tabla de frecuencias para: READHR\n",
      "READHR   0   1   2   3   4   5   6   7   8   9   10  11  12  14  15  20\n",
      "MYOPIC                                                                 \n",
      "0       162  73  84  49  50  37  10  33  11  13   5   0   3   5   2   0\n",
      "1        18  12   9  11  10   7   1   5   1   1   2   1   1   1   0   1\n",
      "\n",
      "Tabla de frecuencias para: COMPHR\n",
      "COMPHR   0    1    2   3   4   5   6   7   8   9   10  11  12  14  15  20  21  \\\n",
      "MYOPIC                                                                          \n",
      "0       189  109  100  36  29  24   9  17   3   2  11   1   1   2   1   2   0   \n",
      "1        30   18   11   4   5   3   1   2   1   0   4   1   0   0   0   0   1   \n",
      "\n",
      "COMPHR  30  \n",
      "MYOPIC      \n",
      "0        1  \n",
      "1        0  \n",
      "\n",
      "Tabla de frecuencias para: STUDYHR\n",
      "STUDYHR   0    1   2   3   4   5   6   7   8   9   10  12  14  15\n",
      "MYOPIC                                                           \n",
      "0        224  143  66  37  14  26   6   7   1   3   4   2   1   3\n",
      "1         33   23   7  11   4   2   0   0   0   0   1   0   0   0\n",
      "\n",
      "Tabla de frecuencias para: TVHR\n",
      "TVHR    0   1   2   3   4   5   6   7   8   9  ...  18  19  20  21  22  23  \\\n",
      "MYOPIC                                         ...                           \n",
      "0        7  12  33  38  46  42  29  49  31  21 ...   8   3  18  10   1   1   \n",
      "1        0   4   2   6   7   8   3   9   2   2 ...   0   1   1   2   0   0   \n",
      "\n",
      "TVHR    25  27  30  31  \n",
      "MYOPIC                  \n",
      "0        3   2   4   1  \n",
      "1        1   0   0   0  \n",
      "\n",
      "[2 rows x 28 columns]\n",
      "\n",
      "Tabla de frecuencias para: DIOPTERHR\n",
      "DIOPTERHR  2    3    4    5    6    7    8    9    10   11  ...   74   75   \\\n",
      "MYOPIC                                                      ...              \n",
      "0            3    1    9    6    3    8   10   11   22    6 ...     0    1   \n",
      "1            1    1    2    1    0    0    2    2    1    0 ...     1    0   \n",
      "\n",
      "DIOPTERHR  76   77   79   84   86   90   91   101  \n",
      "MYOPIC                                             \n",
      "0            1    1    1    1    1    1    1    1  \n",
      "1            1    0    0    0    0    0    0    0  \n",
      "\n",
      "[2 rows x 75 columns]\n",
      "\n",
      "Tabla de frecuencias para: MOMMY\n",
      "MOMMY     0    1\n",
      "MYOPIC          \n",
      "0       279  258\n",
      "1        26   55\n",
      "\n",
      "Tabla de frecuencias para: DADMY\n",
      "DADMY     0    1\n",
      "MYOPIC          \n",
      "0       285  252\n",
      "1        25   56\n",
      "\n"
     ]
    }
   ],
   "source": [
    "for var in ['STUDYYEAR', 'AGE', 'GENDER', 'SPORTHR', 'READHR', 'COMPHR', 'STUDYHR', 'TVHR', 'DIOPTERHR',\n",
    "           'MOMMY','DADMY']:\n",
    "    print \"Tabla de frecuencias para:\", var\n",
    "    print pd.crosstab(df[target], df[var])\n",
    "    print"
   ]
  },
  {
   "cell_type": "markdown",
   "metadata": {},
   "source": [
    "### Variable AGE: un nivel con pocos valores ###"
   ]
  },
  {
   "cell_type": "code",
   "execution_count": 25,
   "metadata": {
    "collapsed": true
   },
   "outputs": [],
   "source": [
    "def get_WoE(data, var, target):\n",
    "    crosstab = pd.crosstab(data[target], data[var])\n",
    "    \n",
    "    print \"Obteniendo el Woe para la variable\", var, \":\"\n",
    "    \n",
    "    for col in crosstab.columns:\n",
    "        if crosstab[col][1] == 0:\n",
    "            print \"  El WoE para\", col, \"[\", sum(crosstab[col]), \"] es infinito\"\n",
    "        else:\n",
    "            print \"  El WoE para\", col, \"[\", sum(crosstab[col]), \"] es\", np.log(float(crosstab[col][0]) / float(crosstab[col][1]))"
   ]
  },
  {
   "cell_type": "code",
   "execution_count": 26,
   "metadata": {
    "collapsed": false
   },
   "outputs": [
    {
     "name": "stdout",
     "output_type": "stream",
     "text": [
      "Obteniendo el Woe para la variable AGE :\n",
      "  El WoE para 5 [ 21 ] es 1.44691898294\n",
      "  El WoE para 6 [ 456 ] es 1.92600899474\n",
      "  El WoE para 7 [ 82 ] es 2.09323486381\n",
      "  El WoE para 8 [ 53 ] es 1.72722094809\n",
      "  El WoE para 9 [ 6 ] es 0.69314718056\n"
     ]
    }
   ],
   "source": [
    "get_WoE(df, \"AGE\" , target)"
   ]
  },
  {
   "cell_type": "code",
   "execution_count": 27,
   "metadata": {
    "collapsed": false
   },
   "outputs": [
    {
     "name": "stdout",
     "output_type": "stream",
     "text": [
      "Obteniendo el Woe para la variable AGE_grp :\n",
      "  El WoE para 5 [ 21 ] es 1.44691898294\n",
      "  El WoE para 6 [ 456 ] es 1.92600899474\n",
      "  El WoE para 7 [ 82 ] es 2.09323486381\n",
      "  El WoE para 8 [ 59 ] es 1.58923520512\n"
     ]
    }
   ],
   "source": [
    "df.loc[:, 'AGE_grp'] = None\n",
    "\n",
    "df.loc[: , 'AGE_grp'] = df['AGE'].map(lambda x: 8 if x == 9 else x)\n",
    "\n",
    "get_WoE(df, 'AGE_grp', target)"
   ]
  },
  {
   "cell_type": "markdown",
   "metadata": {},
   "source": [
    "Se ha agrupado el nivel 9 que tenía unicamente 6 valores dentro del nivel 8, quedando ahora 4 niveles con bastantes valores."
   ]
  },
  {
   "cell_type": "markdown",
   "metadata": {},
   "source": [
    "### Variable SPORTHR: Demasiados niveles ##"
   ]
  },
  {
   "cell_type": "markdown",
   "metadata": {},
   "source": [
    "La variable SPORTHR tiene 40 niveles, donde una gran cantidad de ellos tiene pocos registros. Para ello, se agruparán utilizando el WoE."
   ]
  },
  {
   "cell_type": "code",
   "execution_count": 28,
   "metadata": {
    "collapsed": false
   },
   "outputs": [
    {
     "name": "stdout",
     "output_type": "stream",
     "text": [
      "Obteniendo el Woe para la variable SPORTHR :\n",
      "  El WoE para 0 [ 11 ] es 0.980829253012\n",
      "  El WoE para 1 [ 7 ] es 0.287682072452\n",
      "  El WoE para 2 [ 25 ] es 1.15267950994\n",
      "  El WoE para 3 [ 26 ] es 0.470003629246\n",
      "  El WoE para 4 [ 33 ] es 2.74084002393\n",
      "  El WoE para 5 [ 41 ] es 1.76358859226\n",
      "  El WoE para 6 [ 32 ] es 2.7080502011\n",
      "  El WoE para 7 [ 40 ] es 1.55059741241\n",
      "  El WoE para 8 [ 32 ] es 2.7080502011\n",
      "  El WoE para 9 [ 20 ] es 2.19722457734\n",
      "  El WoE para 10 [ 76 ] es 1.7764919971\n",
      "  El WoE para 11 [ 7 ] es infinito\n",
      "  El WoE para 12 [ 22 ] es 3.04452243772\n",
      "  El WoE para 13 [ 4 ] es infinito\n",
      "  El WoE para 14 [ 40 ] es 2.19722457734\n",
      "  El WoE para 15 [ 37 ] es 2.42774823595\n",
      "  El WoE para 16 [ 15 ] es 1.8718021769\n",
      "  El WoE para 17 [ 5 ] es 0.405465108108\n",
      "  El WoE para 18 [ 24 ] es 1.60943791243\n",
      "  El WoE para 19 [ 1 ] es infinito\n",
      "  El WoE para 20 [ 43 ] es 2.02814824729\n",
      "  El WoE para 21 [ 8 ] es infinito\n",
      "  El WoE para 22 [ 8 ] es 0.510825623766\n",
      "  El WoE para 23 [ 6 ] es 1.60943791243\n",
      "  El WoE para 24 [ 3 ] es infinito\n",
      "  El WoE para 25 [ 13 ] es infinito\n",
      "  El WoE para 26 [ 6 ] es infinito\n",
      "  El WoE para 27 [ 1 ] es infinito\n",
      "  El WoE para 28 [ 6 ] es infinito\n",
      "  El WoE para 29 [ 1 ] es infinito\n",
      "  El WoE para 30 [ 10 ] es infinito\n",
      "  El WoE para 31 [ 2 ] es infinito\n",
      "  El WoE para 32 [ 1 ] es -inf\n",
      "  El WoE para 33 [ 1 ] es infinito\n",
      "  El WoE para 35 [ 5 ] es infinito\n",
      "  El WoE para 36 [ 1 ] es infinito\n",
      "  El WoE para 39 [ 1 ] es infinito\n",
      "  El WoE para 40 [ 1 ] es infinito\n",
      "  El WoE para 41 [ 2 ] es infinito\n",
      "  El WoE para 45 [ 1 ] es -inf\n"
     ]
    }
   ],
   "source": [
    "get_WoE(df, \"SPORTHR\" , target)"
   ]
  },
  {
   "cell_type": "code",
   "execution_count": 29,
   "metadata": {
    "collapsed": false
   },
   "outputs": [
    {
     "name": "stdout",
     "output_type": "stream",
     "text": [
      "Obteniendo el Woe para la variable SPORTHR_grp :\n",
      "  El WoE para n0 [ 73 ] es infinito\n",
      "  El WoE para n1 [ 48 ] es 0.336472236621\n",
      "  El WoE para n2 [ 497 ] es 1.96676837918\n"
     ]
    }
   ],
   "source": [
    "df.loc[:, 'SPORTHR_grp'] = None\n",
    "\n",
    "for row in df.index:\n",
    "    \n",
    "    if df.loc[row, 'SPORTHR'] in (11, 13, 19, 21, 24, 25, 26, 27, 28, 29, 30, 31,\n",
    "                                 33, 35, 36, 39, 40, 41):\n",
    "        df.loc[row, 'SPORTHR_grp'] = 'n0'\n",
    "    elif df.loc[row, 'SPORTHR'] in (1, 3, 17, 22, 32, 45):\n",
    "        df.loc[row, 'SPORTHR_grp'] = 'n1'\n",
    "    else:\n",
    "        df.loc[row, 'SPORTHR_grp'] = 'n2'\n",
    "\n",
    "get_WoE(df, 'SPORTHR_grp', target)"
   ]
  },
  {
   "cell_type": "markdown",
   "metadata": {},
   "source": [
    "Se han reducido los 40 niveles que tenía antes a únicamente 3 niveles, englobando los valores infinitos, los cercanos a 0 y el resto."
   ]
  },
  {
   "cell_type": "markdown",
   "metadata": {},
   "source": [
    "### Variable READHR: Demasiados niveles ###"
   ]
  },
  {
   "cell_type": "markdown",
   "metadata": {},
   "source": [
    "La variable READHR contiene 16 niveles, y a partir del décimo nivel contiene muy pocos valores, así que se van a agrupar."
   ]
  },
  {
   "cell_type": "code",
   "execution_count": 30,
   "metadata": {
    "collapsed": false
   },
   "outputs": [
    {
     "name": "stdout",
     "output_type": "stream",
     "text": [
      "Obteniendo el Woe para la variable READHR :\n",
      "  El WoE para 0 [ 180 ] es 2.19722457734\n",
      "  El WoE para 1 [ 85 ] es 1.80555279136\n",
      "  El WoE para 2 [ 93 ] es 2.23359222151\n",
      "  El WoE para 3 [ 60 ] es 1.49392502531\n",
      "  El WoE para 4 [ 60 ] es 1.60943791243\n",
      "  El WoE para 5 [ 44 ] es 1.66500776359\n",
      "  El WoE para 6 [ 11 ] es 2.30258509299\n",
      "  El WoE para 7 [ 38 ] es 1.88706964903\n",
      "  El WoE para 8 [ 12 ] es 2.3978952728\n",
      "  El WoE para 9 [ 14 ] es 2.56494935746\n",
      "  El WoE para 10 [ 7 ] es 0.916290731874\n",
      "  El WoE para 11 [ 1 ] es -inf\n",
      "  El WoE para 12 [ 4 ] es 1.09861228867\n",
      "  El WoE para 14 [ 6 ] es 1.60943791243\n",
      "  El WoE para 15 [ 2 ] es infinito\n",
      "  El WoE para 20 [ 1 ] es -inf\n"
     ]
    }
   ],
   "source": [
    "get_WoE(df, 'READHR', target)"
   ]
  },
  {
   "cell_type": "code",
   "execution_count": 31,
   "metadata": {
    "collapsed": false
   },
   "outputs": [
    {
     "name": "stdout",
     "output_type": "stream",
     "text": [
      "Obteniendo el Woe para la variable READHR_grp :\n",
      "  El WoE para n0 [ 306 ] es 1.60943791243\n",
      "  El WoE para n1 [ 312 ] es 2.24070968928\n"
     ]
    }
   ],
   "source": [
    "df.loc[:, 'READHR_grp'] = None\n",
    "\n",
    "for row in df.index:\n",
    "    \n",
    "    if df.loc[row, 'READHR'] in (1, 3, 4, 5, 7, 10, 11, 12, 14, 20):\n",
    "        df.loc[row, 'READHR_grp'] = 'n0'\n",
    "    elif df.loc[row, 'READHR'] in (0, 2, 6, 8, 9, 15):\n",
    "        df.loc[row, 'READHR_grp'] = 'n1'\n",
    "\n",
    "get_WoE(df, 'READHR_grp', target)"
   ]
  },
  {
   "cell_type": "markdown",
   "metadata": {},
   "source": [
    "Los 16 niveles iniciales han quedado reducidos a dos niveles."
   ]
  },
  {
   "cell_type": "markdown",
   "metadata": {},
   "source": [
    "### Variable COMPHR: Demasiados niveles ###"
   ]
  },
  {
   "cell_type": "markdown",
   "metadata": {},
   "source": [
    "La variable COMPHR contiene 18 niveles, a partir del séptimo nivel comienzan a haber niveles con muy pocos datos, por lo que habrá que agrupar:"
   ]
  },
  {
   "cell_type": "code",
   "execution_count": 32,
   "metadata": {
    "collapsed": false
   },
   "outputs": [
    {
     "name": "stdout",
     "output_type": "stream",
     "text": [
      "Obteniendo el Woe para la variable COMPHR :\n",
      "  El WoE para 0 [ 219 ] es 1.8405496334\n",
      "  El WoE para 1 [ 127 ] es 1.80097612433\n",
      "  El WoE para 2 [ 111 ] es 2.20727491319\n",
      "  El WoE para 3 [ 40 ] es 2.19722457734\n",
      "  El WoE para 4 [ 34 ] es 1.75785791755\n",
      "  El WoE para 5 [ 27 ] es 2.07944154168\n",
      "  El WoE para 6 [ 10 ] es 2.19722457734\n",
      "  El WoE para 7 [ 19 ] es 2.1400661635\n",
      "  El WoE para 8 [ 4 ] es 1.09861228867\n",
      "  El WoE para 9 [ 2 ] es infinito\n",
      "  El WoE para 10 [ 15 ] es 1.01160091168\n",
      "  El WoE para 11 [ 2 ] es 0.0\n",
      "  El WoE para 12 [ 1 ] es infinito\n",
      "  El WoE para 14 [ 2 ] es infinito\n",
      "  El WoE para 15 [ 1 ] es infinito\n",
      "  El WoE para 20 [ 2 ] es infinito\n",
      "  El WoE para 21 [ 1 ] es -inf\n",
      "  El WoE para 30 [ 1 ] es infinito\n"
     ]
    }
   ],
   "source": [
    "get_WoE(df, 'COMPHR', target)"
   ]
  },
  {
   "cell_type": "code",
   "execution_count": 33,
   "metadata": {
    "collapsed": false
   },
   "outputs": [
    {
     "name": "stdout",
     "output_type": "stream",
     "text": [
      "Obteniendo el Woe para la variable COMPHR_grp :\n",
      "  El WoE para n0 [ 11 ] es 2.30258509299\n",
      "  El WoE para n1 [ 131 ] es 1.90298510434\n",
      "  El WoE para n2 [ 380 ] es 1.81966825735\n",
      "  El WoE para n3 [ 96 ] es 2.15176220326\n"
     ]
    }
   ],
   "source": [
    "df.loc[:, 'COMPHR_grp'] = None\n",
    "\n",
    "for row in df.index:\n",
    "    \n",
    "    if df.loc[row, 'COMPHR'] in (9, 11, 12, 14, 15, 20, 30):\n",
    "        df.loc[row, 'COMPHR_grp'] = 'n0'\n",
    "    elif df.loc[row, 'COMPHR'] in (8, 10, 2, 21):\n",
    "        df.loc[row, 'COMPHR_grp'] = 'n1'\n",
    "    elif df.loc[row, 'COMPHR'] in (0, 1, 4):\n",
    "        df.loc[row, 'COMPHR_grp'] = 'n2'\n",
    "    else:\n",
    "        df.loc[row, 'COMPHR_grp'] = 'n3'\n",
    "\n",
    "get_WoE(df, 'COMPHR_grp', target)"
   ]
  },
  {
   "cell_type": "markdown",
   "metadata": {},
   "source": [
    "De 18 niveles que había en el comienzo del análisis de esta característica, se han quedado 4 niveles, con mayor cantidad de datos."
   ]
  },
  {
   "cell_type": "markdown",
   "metadata": {},
   "source": [
    "### Variable STUDYHR: Demasiados niveles ###"
   ]
  },
  {
   "cell_type": "markdown",
   "metadata": {},
   "source": [
    "La variable STUDYHR tiene 13 niveles, y a partir del quinto nivel contiene muy poca cantidad de datos por nivel, por lo que es necesario agrupar."
   ]
  },
  {
   "cell_type": "code",
   "execution_count": 34,
   "metadata": {
    "collapsed": false
   },
   "outputs": [
    {
     "name": "stdout",
     "output_type": "stream",
     "text": [
      "Obteniendo el Woe para la variable STUDYHR :\n",
      "  El WoE para 0 [ 257 ] es 1.91513849039\n",
      "  El WoE para 1 [ 166 ] es 1.82735041433\n",
      "  El WoE para 2 [ 73 ] es 2.24374459297\n",
      "  El WoE para 3 [ 48 ] es 1.21302263985\n",
      "  El WoE para 4 [ 18 ] es 1.2527629685\n",
      "  El WoE para 5 [ 28 ] es 2.56494935746\n",
      "  El WoE para 6 [ 6 ] es infinito\n",
      "  El WoE para 7 [ 7 ] es infinito\n",
      "  El WoE para 8 [ 1 ] es infinito\n",
      "  El WoE para 9 [ 3 ] es infinito\n",
      "  El WoE para 10 [ 5 ] es 1.38629436112\n",
      "  El WoE para 12 [ 2 ] es infinito\n",
      "  El WoE para 14 [ 1 ] es infinito\n",
      "  El WoE para 15 [ 3 ] es infinito\n"
     ]
    }
   ],
   "source": [
    "get_WoE(df, 'STUDYHR', target)"
   ]
  },
  {
   "cell_type": "code",
   "execution_count": 35,
   "metadata": {
    "collapsed": false
   },
   "outputs": [
    {
     "name": "stdout",
     "output_type": "stream",
     "text": [
      "Obteniendo el Woe para la variable STUDYHR_grp :\n",
      "  El WoE para n0 [ 23 ] es infinito\n",
      "  El WoE para n1 [ 494 ] es 1.76833919502\n",
      "  El WoE para n2 [ 101 ] es 2.32456399971\n"
     ]
    }
   ],
   "source": [
    "df.loc[:, 'STUDYHR_grp'] = None\n",
    "\n",
    "for row in df.index:\n",
    "    \n",
    "    if df.loc[row, 'STUDYHR'] in (6, 7, 8, 9, 12, 14, 15):\n",
    "        df.loc[row, 'STUDYHR_grp'] = 'n0'\n",
    "    elif df.loc[row, 'STUDYHR'] in (0, 1, 3, 4, 10):\n",
    "        df.loc[row, 'STUDYHR_grp'] = 'n1'\n",
    "    else:\n",
    "        df.loc[row, 'STUDYHR_grp'] = 'n2'\n",
    "\n",
    "get_WoE(df, 'STUDYHR_grp', target)"
   ]
  },
  {
   "cell_type": "markdown",
   "metadata": {},
   "source": [
    "Los 13 niveles iniciales han quedado reducidos a 3 niveles."
   ]
  },
  {
   "cell_type": "markdown",
   "metadata": {},
   "source": [
    "### Variable TVHR: Demasiados niveles ###"
   ]
  },
  {
   "cell_type": "markdown",
   "metadata": {},
   "source": [
    "La variable TVHR tiene 28 niveles, con muchos niveles con muy pocos datos, por lo que hay que agruparlos."
   ]
  },
  {
   "cell_type": "code",
   "execution_count": 36,
   "metadata": {
    "collapsed": false
   },
   "outputs": [
    {
     "name": "stdout",
     "output_type": "stream",
     "text": [
      "Obteniendo el Woe para la variable TVHR :\n",
      "  El WoE para 0 [ 7 ] es infinito\n",
      "  El WoE para 1 [ 16 ] es 1.09861228867\n",
      "  El WoE para 2 [ 35 ] es 2.80336038091\n",
      "  El WoE para 3 [ 44 ] es 1.8458266905\n",
      "  El WoE para 4 [ 53 ] es 1.88273124743\n",
      "  El WoE para 5 [ 50 ] es 1.6582280766\n",
      "  El WoE para 6 [ 32 ] es 2.26868354132\n",
      "  El WoE para 7 [ 58 ] es 1.69459572077\n",
      "  El WoE para 8 [ 33 ] es 2.74084002393\n",
      "  El WoE para 9 [ 23 ] es 2.35137525716\n",
      "  El WoE para 10 [ 89 ] es 1.76578398282\n",
      "  El WoE para 11 [ 15 ] es 1.8718021769\n",
      "  El WoE para 12 [ 15 ] es 1.38629436112\n",
      "  El WoE para 13 [ 3 ] es 0.69314718056\n",
      "  El WoE para 14 [ 51 ] es 1.41098697371\n",
      "  El WoE para 15 [ 20 ] es infinito\n",
      "  El WoE para 16 [ 15 ] es 1.01160091168\n",
      "  El WoE para 17 [ 3 ] es infinito\n",
      "  El WoE para 18 [ 8 ] es infinito\n",
      "  El WoE para 19 [ 4 ] es 1.09861228867\n",
      "  El WoE para 20 [ 19 ] es 2.8903717579\n",
      "  El WoE para 21 [ 12 ] es 1.60943791243\n",
      "  El WoE para 22 [ 1 ] es infinito\n",
      "  El WoE para 23 [ 1 ] es infinito\n",
      "  El WoE para 25 [ 4 ] es 1.09861228867\n",
      "  El WoE para 27 [ 2 ] es infinito\n",
      "  El WoE para 30 [ 4 ] es infinito\n",
      "  El WoE para 31 [ 1 ] es infinito\n"
     ]
    }
   ],
   "source": [
    "get_WoE(df, 'TVHR', target)"
   ]
  },
  {
   "cell_type": "code",
   "execution_count": 37,
   "metadata": {
    "collapsed": false
   },
   "outputs": [
    {
     "name": "stdout",
     "output_type": "stream",
     "text": [
      "Obteniendo el Woe para la variable TVHR_grp :\n",
      "  El WoE para n0 [ 47 ] es infinito\n",
      "  El WoE para n1 [ 429 ] es 1.61785310936\n",
      "  El WoE para n2 [ 142 ] es 2.58021682959\n"
     ]
    }
   ],
   "source": [
    "df.loc[:, 'TVHR_grp'] = None\n",
    "\n",
    "for row in df.index:\n",
    "    \n",
    "    if df.loc[row, 'TVHR'] in (0, 15, 17, 18, 22, 23, 27, 30, 31):\n",
    "        df.loc[row, 'TVHR_grp'] = 'n0'\n",
    "    elif df.loc[row, 'TVHR'] in (1, 3, 4, 5, 7, 10, 11, 12, 13, 14, 16, 19, 21, 25):\n",
    "        df.loc[row, 'TVHR_grp'] = 'n1'\n",
    "    else:\n",
    "        df.loc[row, 'TVHR_grp'] = 'n2'\n",
    "\n",
    "get_WoE(df, 'TVHR_grp', target)"
   ]
  },
  {
   "cell_type": "markdown",
   "metadata": {},
   "source": [
    "De esta manera los 28 niveles iniciales quedan reducidos a 3 niveles con mayor cantidad de datos y más representativos."
   ]
  },
  {
   "cell_type": "markdown",
   "metadata": {},
   "source": [
    "### Variable DIOPTERHR: Demasiados niveles ###"
   ]
  },
  {
   "cell_type": "markdown",
   "metadata": {},
   "source": [
    "Por último, la variable DIOPTERHR tiene 75 niveles, con una gran cantidad de niveles con muy pocos datos, así que se propone agruparlos en un número menor de grupos."
   ]
  },
  {
   "cell_type": "code",
   "execution_count": 38,
   "metadata": {
    "collapsed": false
   },
   "outputs": [
    {
     "name": "stdout",
     "output_type": "stream",
     "text": [
      "Obteniendo el Woe para la variable DIOPTERHR :\n",
      "  El WoE para 2 [ 4 ] es 1.09861228867\n",
      "  El WoE para 3 [ 2 ] es 0.0\n",
      "  El WoE para 4 [ 11 ] es 1.50407739678\n",
      "  El WoE para 5 [ 7 ] es 1.79175946923\n",
      "  El WoE para 6 [ 3 ] es infinito\n",
      "  El WoE para 7 [ 8 ] es infinito\n",
      "  El WoE para 8 [ 12 ] es 1.60943791243\n",
      "  El WoE para 9 [ 13 ] es 1.70474809224\n",
      "  El WoE para 10 [ 23 ] es 3.09104245336\n",
      "  El WoE para 11 [ 6 ] es infinito\n",
      "  El WoE para 12 [ 17 ] es 2.01490302054\n",
      "  El WoE para 13 [ 15 ] es infinito\n",
      "  El WoE para 14 [ 28 ] es 2.56494935746\n",
      "  El WoE para 15 [ 18 ] es 1.60943791243\n",
      "  El WoE para 16 [ 28 ] es 1.09861228867\n",
      "  El WoE para 17 [ 19 ] es 2.8903717579\n",
      "  El WoE para 18 [ 20 ] es 2.19722457734\n",
      "  El WoE para 19 [ 24 ] es 2.3978952728\n",
      "  El WoE para 20 [ 21 ] es 1.16315080981\n",
      "  El WoE para 21 [ 14 ] es 1.29928298413\n",
      "  El WoE para 22 [ 14 ] es infinito\n",
      "  El WoE para 23 [ 16 ] es 1.94591014906\n",
      "  El WoE para 24 [ 20 ] es 2.19722457734\n",
      "  El WoE para 25 [ 17 ] es 1.54044504095\n",
      "  El WoE para 26 [ 21 ] es 2.25129179861\n",
      "  El WoE para 27 [ 12 ] es infinito\n",
      "  El WoE para 28 [ 15 ] es 1.38629436112\n",
      "  El WoE para 29 [ 8 ] es 0.510825623766\n",
      "  El WoE para 30 [ 16 ] es 1.46633706879\n",
      "  El WoE para 31 [ 12 ] es infinito\n",
      "  El WoE para 32 [ 5 ] es infinito\n",
      "  El WoE para 33 [ 8 ] es 1.09861228867\n",
      "  El WoE para 34 [ 10 ] es 2.19722457734\n",
      "  El WoE para 35 [ 14 ] es 1.79175946923\n",
      "  El WoE para 36 [ 10 ] es 1.38629436112\n",
      "  El WoE para 37 [ 7 ] es 0.916290731874\n",
      "  El WoE para 38 [ 14 ] es 1.79175946923\n",
      "  El WoE para 39 [ 6 ] es infinito\n",
      "  El WoE para 40 [ 3 ] es infinito\n",
      "  El WoE para 41 [ 6 ] es infinito\n",
      "  El WoE para 42 [ 5 ] es infinito\n",
      "  El WoE para 43 [ 5 ] es 0.405465108108\n",
      "  El WoE para 44 [ 9 ] es 1.2527629685\n",
      "  El WoE para 45 [ 10 ] es 1.38629436112\n",
      "  El WoE para 46 [ 3 ] es infinito\n",
      "  El WoE para 47 [ 3 ] es infinito\n",
      "  El WoE para 48 [ 3 ] es 0.69314718056\n",
      "  El WoE para 49 [ 3 ] es infinito\n",
      "  El WoE para 50 [ 2 ] es infinito\n",
      "  El WoE para 51 [ 3 ] es 0.69314718056\n",
      "  El WoE para 52 [ 4 ] es infinito\n",
      "  El WoE para 53 [ 4 ] es 1.09861228867\n",
      "  El WoE para 54 [ 2 ] es infinito\n",
      "  El WoE para 55 [ 1 ] es infinito\n",
      "  El WoE para 56 [ 2 ] es infinito\n",
      "  El WoE para 58 [ 2 ] es infinito\n",
      "  El WoE para 59 [ 1 ] es infinito\n",
      "  El WoE para 61 [ 1 ] es infinito\n",
      "  El WoE para 62 [ 1 ] es infinito\n",
      "  El WoE para 63 [ 2 ] es infinito\n",
      "  El WoE para 65 [ 4 ] es 1.09861228867\n",
      "  El WoE para 66 [ 3 ] es -0.69314718056\n",
      "  El WoE para 69 [ 1 ] es -inf\n",
      "  El WoE para 70 [ 2 ] es infinito\n",
      "  El WoE para 73 [ 4 ] es infinito\n",
      "  El WoE para 74 [ 1 ] es -inf\n",
      "  El WoE para 75 [ 1 ] es infinito\n",
      "  El WoE para 76 [ 2 ] es 0.0\n",
      "  El WoE para 77 [ 1 ] es infinito\n",
      "  El WoE para 79 [ 1 ] es infinito\n",
      "  El WoE para 84 [ 1 ] es infinito\n",
      "  El WoE para 86 [ 1 ] es infinito\n",
      "  El WoE para 90 [ 1 ] es infinito\n",
      "  El WoE para 91 [ 1 ] es infinito\n",
      "  El WoE para 101 [ 1 ] es infinito\n"
     ]
    }
   ],
   "source": [
    "get_WoE(df, 'DIOPTERHR', target)"
   ]
  },
  {
   "cell_type": "code",
   "execution_count": 39,
   "metadata": {
    "collapsed": false
   },
   "outputs": [
    {
     "name": "stdout",
     "output_type": "stream",
     "text": [
      "Obteniendo el Woe para la variable DIOPTERHR_grp :\n",
      "  El WoE para n0 [ 136 ] es infinito\n",
      "  El WoE para n1 [ 35 ] es 0.287682072452\n",
      "  El WoE para n2 [ 249 ] es 1.43210389715\n",
      "  El WoE para n3 [ 198 ] es 2.30258509299\n"
     ]
    }
   ],
   "source": [
    "df.loc[:, 'DIOPTERHR_grp'] = None\n",
    "\n",
    "for row in df.index:\n",
    "    \n",
    "    if df.loc[row, 'DIOPTERHR'] in (6, 7, 11, 13, 22, 27, 31, 32, 39, 40, 41, 42, 46, 47, \n",
    "                                   49, 50, 52, 54, 55, 56, 58, 59, 61, 62, 63, 70, 73, 75,\n",
    "                                   77, 79, 84, 86, 90, 91, 101):\n",
    "        df.loc[row, 'DIOPTERHR_grp'] = 'n0'\n",
    "    elif df.loc[row, 'DIOPTERHR'] in (3, 29, 37, 43, 48, 51, 66, 69, 74, 76):\n",
    "        df.loc[row, 'DIOPTERHR_grp'] = 'n1'\n",
    "    elif df.loc[row, 'DIOPTERHR'] in (2, 4, 5, 8, 9, 15, 16, 20, 21, 23, 25, 28, 33, 35,\n",
    "                                     36, 38, 44, 45, 53, 65):\n",
    "        df.loc[row, 'DIOPTERHR_grp'] = 'n2'\n",
    "    else:\n",
    "        df.loc[row, 'DIOPTERHR_grp'] = 'n3'\n",
    "\n",
    "get_WoE(df, 'DIOPTERHR_grp', target)"
   ]
  },
  {
   "cell_type": "markdown",
   "metadata": {},
   "source": [
    "Los 75 niveles (entre los cuales había una gran cantidad de niveles con un único valor) han quedado reducidos a 4 niveles."
   ]
  },
  {
   "cell_type": "markdown",
   "metadata": {},
   "source": [
    "#### Variables transformadas ####"
   ]
  },
  {
   "cell_type": "markdown",
   "metadata": {},
   "source": [
    "Se eliminan las variables discretas anteriores para añadir las calculadas con los niveles agrupados."
   ]
  },
  {
   "cell_type": "code",
   "execution_count": 40,
   "metadata": {
    "collapsed": false
   },
   "outputs": [
    {
     "name": "stdout",
     "output_type": "stream",
     "text": [
      "STUDYYEAR\n",
      "GENDER\n",
      "SPHEQ\n",
      "AL\n",
      "ACD\n",
      "LT\n",
      "VCD\n",
      "MOMMY\n",
      "DADMY\n",
      "AGE_grp\n",
      "SPORTHR_grp\n",
      "READHR_grp\n",
      "COMPHR_grp\n",
      "STUDYHR_grp\n",
      "TVHR_grp\n",
      "DIOPTERHR_grp\n"
     ]
    }
   ],
   "source": [
    "features.remove(\"AGE\")\n",
    "features.remove(\"SPORTHR\")\n",
    "features.remove(\"READHR\")\n",
    "features.remove(\"COMPHR\")\n",
    "features.remove(\"STUDYHR\")\n",
    "features.remove(\"TVHR\")\n",
    "features.remove(\"DIOPTERHR\")\n",
    "features.append(\"AGE_grp\")\n",
    "features.append(\"SPORTHR_grp\")\n",
    "features.append(\"READHR_grp\")\n",
    "features.append(\"COMPHR_grp\")\n",
    "features.append(\"STUDYHR_grp\")\n",
    "features.append(\"TVHR_grp\")\n",
    "features.append(\"DIOPTERHR_grp\")\n",
    "\n",
    "for var in features:\n",
    "    print var"
   ]
  },
  {
   "cell_type": "markdown",
   "metadata": {},
   "source": [
    "#### Variables continuas ####"
   ]
  },
  {
   "cell_type": "markdown",
   "metadata": {},
   "source": [
    "Las variables continuas son:\n",
    "- SPHEQ\n",
    "- AL\n",
    "- ACD\n",
    "- LT\n",
    "- VCD"
   ]
  },
  {
   "cell_type": "markdown",
   "metadata": {},
   "source": [
    "#### Variable SPHEQ ####"
   ]
  },
  {
   "cell_type": "code",
   "execution_count": 41,
   "metadata": {
    "collapsed": false
   },
   "outputs": [
    {
     "data": {
      "text/plain": [
       "<matplotlib.text.Text at 0x7ff0a66a7ad0>"
      ]
     },
     "execution_count": 41,
     "metadata": {},
     "output_type": "execute_result"
    },
    {
     "data": {
      "image/png": "[encoded data removed]",
      "text/plain": [
       "<matplotlib.figure.Figure at 0x7ff0a63e0590>"
      ]
     },
     "metadata": {},
     "output_type": "display_data"
    }
   ],
   "source": [
    "fig = plt.figure()\n",
    "\n",
    "fig.add_subplot(1, 2, 1)\n",
    "df['SPHEQ'][df[target]==0].hist(bins=20).set_title(\"MYOPIC = 0\")\n",
    "\n",
    "fig.add_subplot(1, 2, 2)\n",
    "df['SPHEQ'][df[target]==1].hist(bins=20).set_title(\"MYOPIC = 1\")"
   ]
  },
  {
   "cell_type": "markdown",
   "metadata": {},
   "source": [
    "Se puede observar que la probabilidad de miopía crece cuando la refracción esférica es menor que 0.7, por lo que se puede categorizar esas variables:"
   ]
  },
  {
   "cell_type": "code",
   "execution_count": 42,
   "metadata": {
    "collapsed": false
   },
   "outputs": [
    {
     "name": "stdout",
     "output_type": "stream",
     "text": [
      "Obteniendo el Woe para la variable SPHEQ_grp :\n",
      "  El WoE para n0 [ 294 ] es 1.0537617225\n",
      "  El WoE para n1 [ 324 ] es 4.15575319035\n"
     ]
    }
   ],
   "source": [
    "df.loc[:, 'SPHEQ_grp'] = df['SPHEQ'].map(lambda x: 'n0' if x < 0.7 else 'n1')\n",
    "get_WoE(df, 'SPHEQ_grp', target) "
   ]
  },
  {
   "cell_type": "markdown",
   "metadata": {},
   "source": [
    "#### Variable AL ####"
   ]
  },
  {
   "cell_type": "code",
   "execution_count": 43,
   "metadata": {
    "collapsed": false
   },
   "outputs": [
    {
     "data": {
      "text/plain": [
       "<matplotlib.text.Text at 0x7ff0a66c6bd0>"
      ]
     },
     "execution_count": 43,
     "metadata": {},
     "output_type": "execute_result"
    },
    {
     "data": {
      "image/png": "[encoded data removed]",
      "text/plain": [
       "<matplotlib.figure.Figure at 0x7ff073fe4250>"
      ]
     },
     "metadata": {},
     "output_type": "display_data"
    }
   ],
   "source": [
    "fig = plt.figure()\n",
    "\n",
    "fig.add_subplot(1, 2, 1)\n",
    "df['AL'][df[target]==0].hist(bins=20).set_title(\"MYOPIC = 0\")\n",
    "\n",
    "fig.add_subplot(1, 2, 2)\n",
    "df['AL'][df[target]==1].hist(bins=20).set_title(\"MYOPIC = 1\")"
   ]
  },
  {
   "cell_type": "markdown",
   "metadata": {},
   "source": [
    "Con longitudes axiales por debajo de 22.7 es cuando más cantidad de gente con miopía hay, y a partir de 23.25 se encuentra el pico más alto de gente con miopía. Por lo tanto:"
   ]
  },
  {
   "cell_type": "code",
   "execution_count": 44,
   "metadata": {
    "collapsed": false
   },
   "outputs": [
    {
     "name": "stdout",
     "output_type": "stream",
     "text": [
      "Obteniendo el Woe para la variable AL_grp :\n",
      "  El WoE para n0 [ 387 ] es 1.93122559737\n",
      "  El WoE para n1 [ 137 ] es 1.95427839873\n",
      "  El WoE para n2 [ 94 ] es 1.66139765136\n"
     ]
    }
   ],
   "source": [
    "df.loc[:, 'AL_grp'] = df['AL'].map(lambda x: 'n0' if x < 22.7 else 'n1' if x < 23.25 else 'n2')\n",
    "get_WoE(df, 'AL_grp', target) "
   ]
  },
  {
   "cell_type": "markdown",
   "metadata": {},
   "source": [
    "#### Variable ACD ####"
   ]
  },
  {
   "cell_type": "code",
   "execution_count": 45,
   "metadata": {
    "collapsed": false
   },
   "outputs": [
    {
     "data": {
      "text/plain": [
       "<matplotlib.text.Text at 0x7ff073cf7190>"
      ]
     },
     "execution_count": 45,
     "metadata": {},
     "output_type": "execute_result"
    },
    {
     "data": {
      "image/png": "[encoded data removed]",
      "text/plain": [
       "<matplotlib.figure.Figure at 0x7ff073e1a1d0>"
      ]
     },
     "metadata": {},
     "output_type": "display_data"
    }
   ],
   "source": [
    "fig = plt.figure()\n",
    "\n",
    "fig.add_subplot(1, 2, 1)\n",
    "df['ACD'][df[target]==0].hist(bins=20).set_title(\"MYOPIC = 0\")\n",
    "\n",
    "fig.add_subplot(1, 2, 2)\n",
    "df['ACD'][df[target]==1].hist(bins=20).set_title(\"MYOPIC = 1\")"
   ]
  },
  {
   "cell_type": "markdown",
   "metadata": {},
   "source": [
    "Para una profundidad de cámara interior entre 3.6 y 3.8 se encuentra la mayoría de la gente con miopía. Por lo tanto:"
   ]
  },
  {
   "cell_type": "code",
   "execution_count": 46,
   "metadata": {
    "collapsed": false
   },
   "outputs": [
    {
     "name": "stdout",
     "output_type": "stream",
     "text": [
      "Obteniendo el Woe para la variable ACD_grp :\n",
      "  El WoE para n0 [ 324 ] es 2.3978952728\n",
      "  El WoE para n1 [ 192 ] es 1.39936644269\n",
      "  El WoE para n2 [ 102 ] es 1.68175857401\n"
     ]
    }
   ],
   "source": [
    "df.loc[:, 'ACD_grp'] = df['ACD'].map(lambda x: 'n0' if x < 3.6 else 'n1' if x < 3.8 else 'n2')\n",
    "get_WoE(df, 'ACD_grp', target) "
   ]
  },
  {
   "cell_type": "markdown",
   "metadata": {},
   "source": [
    "#### Variable LT ####"
   ]
  },
  {
   "cell_type": "code",
   "execution_count": 47,
   "metadata": {
    "collapsed": false,
    "scrolled": true
   },
   "outputs": [
    {
     "data": {
      "text/plain": [
       "<matplotlib.text.Text at 0x7ff073a05210>"
      ]
     },
     "execution_count": 47,
     "metadata": {},
     "output_type": "execute_result"
    },
    {
     "data": {
      "image/png": "[encoded data removed]",
      "text/plain": [
       "<matplotlib.figure.Figure at 0x7ff073bedd10>"
      ]
     },
     "metadata": {},
     "output_type": "display_data"
    }
   ],
   "source": [
    "fig = plt.figure()\n",
    "\n",
    "fig.add_subplot(1, 2, 1)\n",
    "df['LT'][df[target]==0].hist(bins=20).set_title(\"MYOPIC = 0\")\n",
    "\n",
    "fig.add_subplot(1, 2, 2)\n",
    "df['LT'][df[target]==1].hist(bins=20).set_title(\"MYOPIC = 1\")"
   ]
  },
  {
   "cell_type": "markdown",
   "metadata": {},
   "source": [
    "En el caso del grosor de la lente, se observa un crecimiento entre 3.4 y 3.7, por lo tanto se puede agrupar de la siguiente manera:"
   ]
  },
  {
   "cell_type": "code",
   "execution_count": 48,
   "metadata": {
    "collapsed": false
   },
   "outputs": [
    {
     "name": "stdout",
     "output_type": "stream",
     "text": [
      "Obteniendo el Woe para la variable LT_grp :\n",
      "  El WoE para n0 [ 115 ] es 1.75175413461\n",
      "  El WoE para n1 [ 409 ] es 1.8619637279\n",
      "  El WoE para n2 [ 94 ] es 2.24542667915\n"
     ]
    }
   ],
   "source": [
    "df.loc[:, 'LT_grp'] = df['LT'].map(lambda x: 'n0' if x < 3.4 else 'n1' if x < 3.7 else 'n2')\n",
    "get_WoE(df, 'LT_grp', target)"
   ]
  },
  {
   "cell_type": "markdown",
   "metadata": {},
   "source": [
    "#### Variable VCD ####"
   ]
  },
  {
   "cell_type": "code",
   "execution_count": 49,
   "metadata": {
    "collapsed": false
   },
   "outputs": [
    {
     "data": {
      "text/plain": [
       "<matplotlib.text.Text at 0x7ff0736eded0>"
      ]
     },
     "execution_count": 49,
     "metadata": {},
     "output_type": "execute_result"
    },
    {
     "data": {
      "image/png": "[encoded data removed]",
      "text/plain": [
       "<matplotlib.figure.Figure at 0x7ff0739426d0>"
      ]
     },
     "metadata": {},
     "output_type": "display_data"
    }
   ],
   "source": [
    "fig = plt.figure()\n",
    "\n",
    "fig.add_subplot(1, 2, 1)\n",
    "df['VCD'][df[target]==0].hist(bins=20).set_title(\"MYOPIC = 0\")\n",
    "\n",
    "fig.add_subplot(1, 2, 2)\n",
    "df['VCD'][df[target]==1].hist(bins=20).set_title(\"MYOPIC = 1\")"
   ]
  },
  {
   "cell_type": "markdown",
   "metadata": {},
   "source": [
    "Por último, para la profunidad de la cámara vítrea, se observa un notable crecimiento de personas com miopía entre los valores de 15 y 16, por lo que el agrupamiento quedaría de la siguiente manera:"
   ]
  },
  {
   "cell_type": "code",
   "execution_count": 50,
   "metadata": {
    "collapsed": false
   },
   "outputs": [
    {
     "name": "stdout",
     "output_type": "stream",
     "text": [
      "Obteniendo el Woe para la variable VCD_grp :\n",
      "  El WoE para n0 [ 178 ] es 2.01172336762\n",
      "  El WoE para n1 [ 325 ] es 1.85416503542\n",
      "  El WoE para n2 [ 115 ] es 1.82253112789\n"
     ]
    }
   ],
   "source": [
    "df.loc[:, 'VCD_grp'] = df['VCD'].map(lambda x: 'n0' if x < 15 else 'n1' if x < 16 else 'n2')\n",
    "get_WoE(df, 'VCD_grp', target)"
   ]
  },
  {
   "cell_type": "markdown",
   "metadata": {},
   "source": [
    "### Variables transformadas ###"
   ]
  },
  {
   "cell_type": "markdown",
   "metadata": {},
   "source": [
    "De la misma manera que con las variables discretas, se eliminan variables anteriores para añadir las nuevas calculadas."
   ]
  },
  {
   "cell_type": "code",
   "execution_count": 51,
   "metadata": {
    "collapsed": false
   },
   "outputs": [],
   "source": [
    "features.remove(\"SPHEQ\")\n",
    "features.remove(\"AL\")\n",
    "features.remove(\"ACD\")\n",
    "features.remove(\"LT\")\n",
    "features.remove(\"VCD\")\n",
    "\n",
    "features.append(\"SPHEQ_grp\")\n",
    "features.append(\"AL_grp\")\n",
    "features.append(\"ACD_grp\")\n",
    "features.append(\"LT_grp\")\n",
    "features.append(\"VCD_grp\")"
   ]
  },
  {
   "cell_type": "code",
   "execution_count": 52,
   "metadata": {
    "collapsed": false
   },
   "outputs": [
    {
     "name": "stdout",
     "output_type": "stream",
     "text": [
      "STUDYYEAR\n",
      "GENDER\n",
      "MOMMY\n",
      "DADMY\n",
      "AGE_grp\n",
      "SPORTHR_grp\n",
      "READHR_grp\n",
      "COMPHR_grp\n",
      "STUDYHR_grp\n",
      "TVHR_grp\n",
      "DIOPTERHR_grp\n",
      "SPHEQ_grp\n",
      "AL_grp\n",
      "ACD_grp\n",
      "LT_grp\n",
      "VCD_grp\n"
     ]
    }
   ],
   "source": [
    "for var in features:\n",
    "    print var"
   ]
  },
  {
   "cell_type": "markdown",
   "metadata": {},
   "source": [
    "## Creación de un modelo ##"
   ]
  },
  {
   "cell_type": "markdown",
   "metadata": {},
   "source": [
    "### Creación de variables dummies ###"
   ]
  },
  {
   "cell_type": "markdown",
   "metadata": {},
   "source": [
    "Gracias a la función de pandas get_dummies(), se pueden convertir variables categóricas en valores discretos."
   ]
  },
  {
   "cell_type": "code",
   "execution_count": 53,
   "metadata": {
    "collapsed": false
   },
   "outputs": [],
   "source": [
    "data_model = pd.concat((pd.get_dummies(df['STUDYYEAR'], prefix = 'STUDYYEAR'),\n",
    "                        pd.get_dummies(df['AGE_grp'], prefix = 'AGE'),\n",
    "                        pd.get_dummies(df['GENDER'], prefix = 'GENDER'),\n",
    "                        pd.get_dummies(df['SPORTHR_grp'], prefix = 'SPORTHR'),\n",
    "                        pd.get_dummies(df['READHR_grp'], prefix = 'READHR'),\n",
    "                        pd.get_dummies(df['COMPHR_grp'], prefix = 'COMPHR'),\n",
    "                        pd.get_dummies(df['STUDYHR_grp'], prefix = 'STUDYHR'),\n",
    "                        pd.get_dummies(df['TVHR_grp'], prefix = 'TVHR'),\n",
    "                        pd.get_dummies(df['DIOPTERHR_grp'], prefix = 'DIOPTERHR'),\n",
    "                        pd.get_dummies(df['MOMMY'], prefix = 'MOMMY'),\n",
    "                        pd.get_dummies(df['DADMY'], prefix = 'DADMY'),\n",
    "                        pd.get_dummies(df['SPHEQ_grp'], prefix = 'SPHEQ'),\n",
    "                        pd.get_dummies(df['AL_grp'], prefix = 'AL'),\n",
    "                        pd.get_dummies(df['ACD_grp'], prefix = 'ACD'),\n",
    "                        pd.get_dummies(df['LT_grp'], prefix = 'LT'),\n",
    "                        pd.get_dummies(df['VCD_grp'], prefix = 'VCD')), axis = 1)"
   ]
  },
  {
   "cell_type": "markdown",
   "metadata": {},
   "source": [
    "### Eliminando variables colineales ###"
   ]
  },
  {
   "cell_type": "markdown",
   "metadata": {},
   "source": [
    "Gracias al cálculo y selección con el VIF, se pueden obtener coeficientes de colinealidad entre variables para eliminar variables colineales. Después nos quedaremos con las que den un valor menor que 5."
   ]
  },
  {
   "cell_type": "code",
   "execution_count": 54,
   "metadata": {
    "collapsed": true
   },
   "outputs": [],
   "source": [
    "from sklearn.linear_model import LinearRegression\n",
    "\n",
    "def calculateVIF(data):\n",
    "    features = list(data.columns)\n",
    "    num_features = len(features)\n",
    "    \n",
    "    model = LinearRegression()\n",
    "    \n",
    "    result = pd.DataFrame(index = ['VIF'], columns = features)\n",
    "    result = result.fillna(0)\n",
    "    \n",
    "    for ite in range(num_features):\n",
    "        x_features = features[:]\n",
    "        y_featue = features[ite]\n",
    "        x_features.remove(y_featue)\n",
    "        \n",
    "        x = data[x_features]\n",
    "        y = data[y_featue]\n",
    "        \n",
    "        model.fit(data[x_features], data[y_featue])\n",
    "        \n",
    "        result[y_featue] = 1/(1 - model.score(data[x_features], data[y_featue]))\n",
    "    \n",
    "    return result\n",
    "\n",
    "def selectDataUsingVIF(data, max_VIF = 5):\n",
    "    result = data.copy(deep = True)\n",
    "    \n",
    "    VIF = calculateVIF(result)\n",
    "    \n",
    "    while VIF.as_matrix().max() > max_VIF:\n",
    "        col_max = np.where(VIF == VIF.as_matrix().max())[1][0]\n",
    "        features = list(result.columns)\n",
    "        features.remove(features[col_max])\n",
    "        result = result[features]\n",
    "        \n",
    "        VIF = calculateVIF(result)\n",
    "        \n",
    "    return result"
   ]
  },
  {
   "cell_type": "code",
   "execution_count": 55,
   "metadata": {
    "collapsed": false
   },
   "outputs": [
    {
     "data": {
      "text/html": [
       "<div>\n",
       "<table border=\"1\" class=\"dataframe\">\n",
       "  <thead>\n",
       "    <tr style=\"text-align: right;\">\n",
       "      <th></th>\n",
       "      <th>STUDYYEAR_1990</th>\n",
       "      <th>STUDYYEAR_1991</th>\n",
       "      <th>STUDYYEAR_1992</th>\n",
       "      <th>STUDYYEAR_1993</th>\n",
       "      <th>STUDYYEAR_1994</th>\n",
       "      <th>STUDYYEAR_1995</th>\n",
       "      <th>AGE_5</th>\n",
       "      <th>AGE_6</th>\n",
       "      <th>AGE_7</th>\n",
       "      <th>AGE_8</th>\n",
       "      <th>...</th>\n",
       "      <th>AL_n2</th>\n",
       "      <th>ACD_n0</th>\n",
       "      <th>ACD_n1</th>\n",
       "      <th>ACD_n2</th>\n",
       "      <th>LT_n0</th>\n",
       "      <th>LT_n1</th>\n",
       "      <th>LT_n2</th>\n",
       "      <th>VCD_n0</th>\n",
       "      <th>VCD_n1</th>\n",
       "      <th>VCD_n2</th>\n",
       "    </tr>\n",
       "  </thead>\n",
       "  <tbody>\n",
       "    <tr>\n",
       "      <th>VIF</th>\n",
       "      <td>inf</td>\n",
       "      <td>inf</td>\n",
       "      <td>inf</td>\n",
       "      <td>inf</td>\n",
       "      <td>inf</td>\n",
       "      <td>inf</td>\n",
       "      <td>inf</td>\n",
       "      <td>inf</td>\n",
       "      <td>inf</td>\n",
       "      <td>inf</td>\n",
       "      <td>...</td>\n",
       "      <td>inf</td>\n",
       "      <td>inf</td>\n",
       "      <td>inf</td>\n",
       "      <td>inf</td>\n",
       "      <td>inf</td>\n",
       "      <td>inf</td>\n",
       "      <td>inf</td>\n",
       "      <td>inf</td>\n",
       "      <td>inf</td>\n",
       "      <td>inf</td>\n",
       "    </tr>\n",
       "  </tbody>\n",
       "</table>\n",
       "<p>1 rows × 49 columns</p>\n",
       "</div>"
      ],
      "text/plain": [
       "     STUDYYEAR_1990  STUDYYEAR_1991  STUDYYEAR_1992  STUDYYEAR_1993  \\\n",
       "VIF             inf             inf             inf             inf   \n",
       "\n",
       "     STUDYYEAR_1994  STUDYYEAR_1995  AGE_5  AGE_6  AGE_7  AGE_8   ...    \\\n",
       "VIF             inf             inf    inf    inf    inf    inf   ...     \n",
       "\n",
       "     AL_n2  ACD_n0  ACD_n1  ACD_n2  LT_n0  LT_n1  LT_n2  VCD_n0  VCD_n1  \\\n",
       "VIF    inf     inf     inf     inf    inf    inf    inf     inf     inf   \n",
       "\n",
       "     VCD_n2  \n",
       "VIF     inf  \n",
       "\n",
       "[1 rows x 49 columns]"
      ]
     },
     "execution_count": 55,
     "metadata": {},
     "output_type": "execute_result"
    }
   ],
   "source": [
    "calculateVIF(data_model)"
   ]
  },
  {
   "cell_type": "code",
   "execution_count": 56,
   "metadata": {
    "collapsed": false
   },
   "outputs": [],
   "source": [
    "model_vars = selectDataUsingVIF(data_model)\n",
    "vif_model = calculateVIF(model_vars)"
   ]
  },
  {
   "cell_type": "markdown",
   "metadata": {},
   "source": [
    "Se comprueba que todas tienen un valor menor que 5."
   ]
  },
  {
   "cell_type": "code",
   "execution_count": 57,
   "metadata": {
    "collapsed": false
   },
   "outputs": [
    {
     "data": {
      "text/plain": [
       "array([[ True,  True,  True,  True,  True,  True,  True,  True,  True,\n",
       "         True,  True,  True,  True,  True,  True,  True,  True,  True,\n",
       "         True,  True,  True,  True,  True,  True,  True,  True,  True,\n",
       "         True,  True,  True]], dtype=bool)"
      ]
     },
     "execution_count": 57,
     "metadata": {},
     "output_type": "execute_result"
    }
   ],
   "source": [
    "vif_model.values < 5"
   ]
  },
  {
   "cell_type": "markdown",
   "metadata": {},
   "source": [
    "### Separando en conjunto de muestra y de validación ###"
   ]
  },
  {
   "cell_type": "code",
   "execution_count": 100,
   "metadata": {
    "collapsed": true
   },
   "outputs": [],
   "source": [
    "from sklearn.cross_validation import train_test_split\n",
    "\n",
    "x_train, x_test, y_train, y_test = train_test_split(model_vars, df[target])"
   ]
  },
  {
   "cell_type": "markdown",
   "metadata": {},
   "source": [
    "### Creando el modelo y validándolo ###"
   ]
  },
  {
   "cell_type": "code",
   "execution_count": 101,
   "metadata": {
    "collapsed": true
   },
   "outputs": [],
   "source": [
    "from sklearn.metrics import accuracy_score, auc, confusion_matrix, f1_score, precision_score, recall_score, roc_curve\n",
    "\n",
    "def metricas_modelos(y_true, y_pred):\n",
    "    from sklearn.metrics import accuracy_score, auc, confusion_matrix, f1_score, precision_score, recall_score, roc_curve\n",
    "\n",
    "    # Obtención de matriz de confusión\n",
    "    confusion_matrix = confusion_matrix(y_true, y_pred)\n",
    "\n",
    "    print \"La matriz de confusión es \"\n",
    "    print confusion_matrix\n",
    "\n",
    "    print 'Precisión:', accuracy_score(y_true, y_pred)\n",
    "    print 'Exactitud:', precision_score(y_true, y_pred)\n",
    "    print 'Exhaustividad:', recall_score(y_true, y_pred)\n",
    "    print 'F1:', f1_score(y_true, y_pred)\n",
    "\n",
    "    false_positive_rate, recall, thresholds = roc_curve(y_true, y_pred)\n",
    "    roc_auc = auc(false_positive_rate, recall)\n",
    "\n",
    "    print 'AUC:', auc(false_positive_rate, recall)\n",
    "\n",
    "    plot(false_positive_rate, recall, 'b')\n",
    "    plot([0, 1], [0, 1], 'r--')\n",
    "    title('AUC = %0.2f' % roc_auc)"
   ]
  },
  {
   "cell_type": "code",
   "execution_count": 102,
   "metadata": {
    "collapsed": false
   },
   "outputs": [
    {
     "name": "stdout",
     "output_type": "stream",
     "text": [
      "La matriz de confusión es \n",
      "[[387   9]\n",
      " [ 31  36]]\n",
      "Precisión: 0.913606911447\n",
      "Exactitud: 0.8\n",
      "Exhaustividad: 0.537313432836\n",
      "F1: 0.642857142857\n",
      "AUC: 0.757293080054\n"
     ]
    },
    {
     "data": {
      "image/png": "[encoded data removed]",
      "text/plain": [
       "<matplotlib.figure.Figure at 0x7ff072f820d0>"
      ]
     },
     "metadata": {},
     "output_type": "display_data"
    }
   ],
   "source": [
    "from sklearn.linear_model.logistic import LogisticRegression\n",
    "\n",
    "model = LogisticRegression().fit(x_train, y_train)\n",
    "y_pred_train = model.predict(x_train)\n",
    "y_pred_test = model.predict(x_test)\n",
    "\n",
    "metricas_modelos(y_train, y_pred_train)"
   ]
  },
  {
   "cell_type": "code",
   "execution_count": 103,
   "metadata": {
    "collapsed": false
   },
   "outputs": [
    {
     "name": "stdout",
     "output_type": "stream",
     "text": [
      "La matriz de confusión es \n",
      "[[135   6]\n",
      " [  6   8]]\n",
      "Precisión: 0.922580645161\n",
      "Exactitud: 0.571428571429\n",
      "Exhaustividad: 0.571428571429\n",
      "F1: 0.571428571429\n",
      "AUC: 0.76443768997\n"
     ]
    },
    {
     "data": {
      "image/png": "[encoded data removed]",
      "text/plain": [
       "<matplotlib.figure.Figure at 0x7ff0735a0490>"
      ]
     },
     "metadata": {},
     "output_type": "display_data"
    }
   ],
   "source": [
    "metricas_modelos(y_test, y_pred_test)"
   ]
  }
 ],
 "metadata": {
  "anaconda-cloud": {},
  "kernelspec": {
   "display_name": "Python [conda root]",
   "language": "python",
   "name": "conda-root-py"
  },
  "language_info": {
   "codemirror_mode": {
    "name": "ipython",
    "version": 2
   },
   "file_extension": ".py",
   "mimetype": "text/x-python",
   "name": "python",
   "nbconvert_exporter": "python",
   "pygments_lexer": "ipython2",
   "version": "2.7.12"
  }
 },
 "nbformat": 4,
 "nbformat_minor": 1
}
