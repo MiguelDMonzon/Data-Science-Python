{
 "cells": [
  {
   "cell_type": "markdown",
   "metadata": {},
   "source": [
    "# Segmentación de datos de redes sociales. (30 puntos) #\n",
    "\n",
    "En el archivo “snsdata.csv” se encuentra los términos más utilizados en unos 30.000 perfiles\n",
    "aleatorios de adolescentes de una red social. Importar el archivo y separar el conjunto de datos en\n",
    "dos según el género de los usuarios (F y M). En cada uno de los subconjuntos de datos eliminar el\n",
    "año de graduación ('gradyear'), el género ('gender') y la edad (‘age’). \n",
    "\n",
    "Utilizando el algoritmo de k-means identificar el número de segmentos óptimos en los que se divide cada subconjunto de\n",
    "datos y obtener los valores de los centroides."
   ]
  },
  {
   "cell_type": "code",
   "execution_count": 31,
   "metadata": {
    "collapsed": true
   },
   "outputs": [],
   "source": [
    "import pandas as pd"
   ]
  },
  {
   "cell_type": "markdown",
   "metadata": {},
   "source": [
    "## Leyendo los datos ##"
   ]
  },
  {
   "cell_type": "code",
   "execution_count": 32,
   "metadata": {
    "collapsed": true
   },
   "outputs": [],
   "source": [
    "df = pd.read_csv(\"snsdata.csv\")"
   ]
  },
  {
   "cell_type": "code",
   "execution_count": 33,
   "metadata": {
    "collapsed": false,
    "scrolled": false
   },
   "outputs": [
    {
     "data": {
      "text/html": [
       "<div>\n",
       "<table border=\"1\" class=\"dataframe\">\n",
       "  <thead>\n",
       "    <tr style=\"text-align: right;\">\n",
       "      <th></th>\n",
       "      <th>gradyear</th>\n",
       "      <th>gender</th>\n",
       "      <th>age</th>\n",
       "      <th>friends</th>\n",
       "      <th>basketball</th>\n",
       "      <th>football</th>\n",
       "      <th>soccer</th>\n",
       "      <th>softball</th>\n",
       "      <th>volleyball</th>\n",
       "      <th>swimming</th>\n",
       "      <th>...</th>\n",
       "      <th>blonde</th>\n",
       "      <th>mall</th>\n",
       "      <th>shopping</th>\n",
       "      <th>clothes</th>\n",
       "      <th>hollister</th>\n",
       "      <th>abercrombie</th>\n",
       "      <th>die</th>\n",
       "      <th>death</th>\n",
       "      <th>drunk</th>\n",
       "      <th>drugs</th>\n",
       "    </tr>\n",
       "  </thead>\n",
       "  <tbody>\n",
       "    <tr>\n",
       "      <th>0</th>\n",
       "      <td>2006</td>\n",
       "      <td>M</td>\n",
       "      <td>18.982</td>\n",
       "      <td>7</td>\n",
       "      <td>0</td>\n",
       "      <td>0</td>\n",
       "      <td>0</td>\n",
       "      <td>0</td>\n",
       "      <td>0</td>\n",
       "      <td>0</td>\n",
       "      <td>...</td>\n",
       "      <td>0</td>\n",
       "      <td>0</td>\n",
       "      <td>0</td>\n",
       "      <td>0</td>\n",
       "      <td>0</td>\n",
       "      <td>0</td>\n",
       "      <td>0</td>\n",
       "      <td>0</td>\n",
       "      <td>0</td>\n",
       "      <td>0</td>\n",
       "    </tr>\n",
       "    <tr>\n",
       "      <th>1</th>\n",
       "      <td>2006</td>\n",
       "      <td>F</td>\n",
       "      <td>18.801</td>\n",
       "      <td>0</td>\n",
       "      <td>0</td>\n",
       "      <td>1</td>\n",
       "      <td>0</td>\n",
       "      <td>0</td>\n",
       "      <td>0</td>\n",
       "      <td>0</td>\n",
       "      <td>...</td>\n",
       "      <td>0</td>\n",
       "      <td>1</td>\n",
       "      <td>0</td>\n",
       "      <td>0</td>\n",
       "      <td>0</td>\n",
       "      <td>0</td>\n",
       "      <td>0</td>\n",
       "      <td>0</td>\n",
       "      <td>0</td>\n",
       "      <td>0</td>\n",
       "    </tr>\n",
       "    <tr>\n",
       "      <th>2</th>\n",
       "      <td>2006</td>\n",
       "      <td>M</td>\n",
       "      <td>18.335</td>\n",
       "      <td>69</td>\n",
       "      <td>0</td>\n",
       "      <td>1</td>\n",
       "      <td>0</td>\n",
       "      <td>0</td>\n",
       "      <td>0</td>\n",
       "      <td>0</td>\n",
       "      <td>...</td>\n",
       "      <td>0</td>\n",
       "      <td>0</td>\n",
       "      <td>0</td>\n",
       "      <td>0</td>\n",
       "      <td>0</td>\n",
       "      <td>0</td>\n",
       "      <td>0</td>\n",
       "      <td>1</td>\n",
       "      <td>0</td>\n",
       "      <td>0</td>\n",
       "    </tr>\n",
       "    <tr>\n",
       "      <th>3</th>\n",
       "      <td>2006</td>\n",
       "      <td>F</td>\n",
       "      <td>18.875</td>\n",
       "      <td>0</td>\n",
       "      <td>0</td>\n",
       "      <td>0</td>\n",
       "      <td>0</td>\n",
       "      <td>0</td>\n",
       "      <td>0</td>\n",
       "      <td>0</td>\n",
       "      <td>...</td>\n",
       "      <td>0</td>\n",
       "      <td>0</td>\n",
       "      <td>0</td>\n",
       "      <td>0</td>\n",
       "      <td>0</td>\n",
       "      <td>0</td>\n",
       "      <td>0</td>\n",
       "      <td>0</td>\n",
       "      <td>0</td>\n",
       "      <td>0</td>\n",
       "    </tr>\n",
       "    <tr>\n",
       "      <th>4</th>\n",
       "      <td>2006</td>\n",
       "      <td>NaN</td>\n",
       "      <td>18.995</td>\n",
       "      <td>10</td>\n",
       "      <td>0</td>\n",
       "      <td>0</td>\n",
       "      <td>0</td>\n",
       "      <td>0</td>\n",
       "      <td>0</td>\n",
       "      <td>0</td>\n",
       "      <td>...</td>\n",
       "      <td>0</td>\n",
       "      <td>0</td>\n",
       "      <td>2</td>\n",
       "      <td>0</td>\n",
       "      <td>0</td>\n",
       "      <td>0</td>\n",
       "      <td>0</td>\n",
       "      <td>0</td>\n",
       "      <td>1</td>\n",
       "      <td>1</td>\n",
       "    </tr>\n",
       "  </tbody>\n",
       "</table>\n",
       "<p>5 rows × 40 columns</p>\n",
       "</div>"
      ],
      "text/plain": [
       "   gradyear gender     age  friends  basketball  football  soccer  softball  \\\n",
       "0      2006      M  18.982        7           0         0       0         0   \n",
       "1      2006      F  18.801        0           0         1       0         0   \n",
       "2      2006      M  18.335       69           0         1       0         0   \n",
       "3      2006      F  18.875        0           0         0       0         0   \n",
       "4      2006    NaN  18.995       10           0         0       0         0   \n",
       "\n",
       "   volleyball  swimming  ...    blonde  mall  shopping  clothes  hollister  \\\n",
       "0           0         0  ...         0     0         0        0          0   \n",
       "1           0         0  ...         0     1         0        0          0   \n",
       "2           0         0  ...         0     0         0        0          0   \n",
       "3           0         0  ...         0     0         0        0          0   \n",
       "4           0         0  ...         0     0         2        0          0   \n",
       "\n",
       "   abercrombie  die  death  drunk  drugs  \n",
       "0            0    0      0      0      0  \n",
       "1            0    0      0      0      0  \n",
       "2            0    0      1      0      0  \n",
       "3            0    0      0      0      0  \n",
       "4            0    0      0      1      1  \n",
       "\n",
       "[5 rows x 40 columns]"
      ]
     },
     "execution_count": 33,
     "metadata": {},
     "output_type": "execute_result"
    }
   ],
   "source": [
    "df.head()"
   ]
  },
  {
   "cell_type": "markdown",
   "metadata": {},
   "source": [
    "## Limpiando los datos ##"
   ]
  },
  {
   "cell_type": "code",
   "execution_count": 34,
   "metadata": {
    "collapsed": false
   },
   "outputs": [],
   "source": [
    "df = df.dropna()\n",
    "df_masc = df[df[\"gender\"] == \"M\"]\n",
    "df_fem = df[df[\"gender\"] == \"F\"]"
   ]
  },
  {
   "cell_type": "code",
   "execution_count": 35,
   "metadata": {
    "collapsed": false
   },
   "outputs": [],
   "source": [
    "df_masc = df_masc.drop([\"gradyear\", \"gender\", \"age\"],1)\n",
    "df_fem = df_fem.drop([\"gradyear\", \"gender\", \"age\"],1)"
   ]
  },
  {
   "cell_type": "markdown",
   "metadata": {},
   "source": [
    "## Obtener número óptimo de clusters ##"
   ]
  },
  {
   "cell_type": "markdown",
   "metadata": {},
   "source": [
    "Se va a utilizar el cálculo de silhouette, para así obtener las puntuaciones y ver cuál es el número óptimo de clusters."
   ]
  },
  {
   "cell_type": "code",
   "execution_count": 36,
   "metadata": {
    "collapsed": true
   },
   "outputs": [],
   "source": [
    "from sklearn.metrics import silhouette_score\n",
    "import matplotlib.pyplot as plt\n",
    "from sklearn.cluster import KMeans"
   ]
  },
  {
   "cell_type": "code",
   "execution_count": 37,
   "metadata": {
    "collapsed": false
   },
   "outputs": [],
   "source": [
    "def plot_sillhouette(blobs, figure_name, max_k = 10, n_init = 10):\n",
    "    sillhouette_avgs = []\n",
    "    \n",
    "    for k in range(2, max_k):\n",
    "        kmean = KMeans(n_clusters = k, n_init = n_init).fit(blobs)\n",
    "        sillhouette_avgs.append(silhouette_score(blobs, kmean.labels_))\n",
    "        \n",
    "    plt.plot(range(2, max_k), sillhouette_avgs)\n",
    "    plt.title(figure_name)"
   ]
  },
  {
   "cell_type": "code",
   "execution_count": 38,
   "metadata": {
    "collapsed": false
   },
   "outputs": [
    {
     "data": {
      "image/png": "[encoded data removed]",
      "text/plain": [
       "<matplotlib.figure.Figure at 0x7fa1a91c2610>"
      ]
     },
     "metadata": {},
     "output_type": "display_data"
    }
   ],
   "source": [
    "%matplotlib inline\n",
    "plot_sillhouette(df_masc, 'Data frame masculino')"
   ]
  },
  {
   "cell_type": "markdown",
   "metadata": {},
   "source": [
    "La gráfica muestra que la mayor puntuación para el subgrupo de chicos se encuentra en dos clusters. "
   ]
  },
  {
   "cell_type": "code",
   "execution_count": 51,
   "metadata": {
    "collapsed": false
   },
   "outputs": [
    {
     "data": {
      "image/png": "[encoded data removed]",
      "text/plain": [
       "<matplotlib.figure.Figure at 0x7fa19bf993d0>"
      ]
     },
     "metadata": {},
     "output_type": "display_data"
    }
   ],
   "source": [
    "plot_sillhouette(df_fem, 'Data frame femenino')"
   ]
  },
  {
   "cell_type": "markdown",
   "metadata": {},
   "source": [
    "Al igual que en el de los chicos, en el de las chicas también se observa mayor puntuación en dos clusters. Se comprueba que el algoritmo ha tardado mucho más en chicas que en chicos por la diferencia en cuanto a registros."
   ]
  },
  {
   "cell_type": "code",
   "execution_count": 49,
   "metadata": {
    "collapsed": false
   },
   "outputs": [
    {
     "name": "stdout",
     "output_type": "stream",
     "text": [
      "4694\n",
      "19311\n"
     ]
    }
   ],
   "source": [
    "print(len(df_masc))\n",
    "print(len(df_fem))"
   ]
  },
  {
   "cell_type": "markdown",
   "metadata": {},
   "source": [
    "## Realizando la clusterización ##"
   ]
  },
  {
   "cell_type": "code",
   "execution_count": 52,
   "metadata": {
    "collapsed": false
   },
   "outputs": [],
   "source": [
    "kmeans_masc = KMeans(n_clusters = 2).fit(df_masc)\n",
    "kmeans_fem = KMeans(n_clusters = 2).fit(df_fem)"
   ]
  },
  {
   "cell_type": "markdown",
   "metadata": {},
   "source": [
    "## Obteniendo los centroides ##"
   ]
  },
  {
   "cell_type": "code",
   "execution_count": 53,
   "metadata": {
    "collapsed": false
   },
   "outputs": [
    {
     "name": "stdout",
     "output_type": "stream",
     "text": [
      "Centroides Clusters masculinos: [[  1.38200947e+01   3.00368227e-01   4.56338769e-01   2.00946870e-01\n",
      "    7.10152551e-03   3.20883745e-02   7.44345082e-02   7.89058390e-03\n",
      "    2.55917938e-01   9.12677538e-02   2.05155181e-01   6.57548659e-02\n",
      "    1.61230931e-01   7.73277223e-02   4.94476591e-02   5.49710679e-02\n",
      "    1.89110994e-01   3.34560757e-01   4.41872699e-02   6.68069437e-01\n",
      "    2.38558653e-01   4.07154129e-01   1.87795897e-01   1.14413467e-01\n",
      "    2.44608101e-02   1.71488690e-01   2.97211994e-02   1.92004208e-02\n",
      "    1.27301420e-01   4.55023672e-02   6.97001578e-02   3.10362967e-02\n",
      "    2.20936349e-02   1.72014729e-01   9.62651236e-02   6.89110994e-02\n",
      "    5.44450289e-02]\n",
      " [  7.26053812e+01   3.65470852e-01   4.39461883e-01   2.47757848e-01\n",
      "    1.79372197e-02   4.59641256e-02   8.29596413e-02   6.72645740e-03\n",
      "    3.81165919e-01   1.49103139e-01   1.86098655e-01   8.63228700e-02\n",
      "    1.82735426e-01   1.06502242e-01   6.61434978e-02   8.63228700e-02\n",
      "    2.72421525e-01   4.54035874e-01   8.07174888e-02   8.37443946e-01\n",
      "    3.38565022e-01   5.06726457e-01   2.60089686e-01   1.65919283e-01\n",
      "    3.47533632e-02   2.29820628e-01   4.14798206e-02   2.91479821e-02\n",
      "    2.02914798e-01   7.28699552e-02   8.52017937e-02   4.37219731e-02\n",
      "    3.25112108e-02   2.35426009e-01   1.19955157e-01   1.12107623e-01\n",
      "    6.50224215e-02]]\n"
     ]
    }
   ],
   "source": [
    "print \"Centroides Clusters masculinos: \" + str(kmeans_masc.cluster_centers_)"
   ]
  },
  {
   "cell_type": "code",
   "execution_count": 54,
   "metadata": {
    "collapsed": false
   },
   "outputs": [
    {
     "name": "stdout",
     "output_type": "stream",
     "text": [
      "Centroides Clusters femeninos: [[  1.78526832e+01   2.49742002e-01   2.06849845e-01   2.20007740e-01\n",
      "    1.91240970e-01   1.64602683e-01   1.46671827e-01   1.21194530e-01\n",
      "    6.61119711e-02   8.52038184e-02   1.30933953e-01   3.75193498e-01\n",
      "    2.35810114e-01   1.54669763e-01   1.40673375e-01   1.15196078e-01\n",
      "    4.68911249e-01   3.00116099e-01   4.04411765e-02   7.75348297e-01\n",
      "    2.49484004e-01   4.64654283e-01   2.54966460e-01   9.94582043e-02\n",
      "    1.92853457e-02   4.91744066e-01   1.30740454e-01   1.24032508e-01\n",
      "    2.77928277e-01   4.14925181e-01   1.67956656e-01   7.14654283e-02\n",
      "    5.19865841e-02   1.90144479e-01   1.20678535e-01   9.55882353e-02\n",
      "    6.74664603e-02]\n",
      " [  9.04441818e+01   3.40950880e-01   2.77646441e-01   2.82374573e-01\n",
      "    2.66351458e-01   2.08563173e-01   1.72051484e-01   1.79931705e-01\n",
      "    9.66640399e-02   7.69634883e-02   1.50512214e-01   4.80693459e-01\n",
      "    2.04360389e-01   1.76516942e-01   1.79669031e-01   1.26346204e-01\n",
      "    5.70002627e-01   3.05752561e-01   4.49172577e-02   8.08247964e-01\n",
      "    2.72655634e-01   5.95482007e-01   3.42526924e-01   1.40267928e-01\n",
      "    2.20646178e-02   5.35592330e-01   1.56028369e-01   1.32387707e-01\n",
      "    3.79563961e-01   5.33753612e-01   1.88074599e-01   1.11899133e-01\n",
      "    9.27239296e-02   1.84659837e-01   1.33963751e-01   9.64013659e-02\n",
      "    6.17283951e-02]]\n"
     ]
    }
   ],
   "source": [
    "print \"Centroides Clusters femeninos: \" + str(kmeans_fem.cluster_centers_)"
   ]
  },
  {
   "cell_type": "markdown",
   "metadata": {},
   "source": [
    "# Componentes principales. (35 puntos)# \n",
    "\n",
    "En el archivo “concrete.csv” se encuentra los datos de diferentes mezclas de hormigón. Utilizar el\n",
    "análisis de componentes principales y obtener el número de componentes principales con los que\n",
    "se puede explicar el 50%, 75% y 90% de la varianza. Obtener el porcentaje de la varianza que\n",
    "explica la primera componente principal."
   ]
  },
  {
   "cell_type": "code",
   "execution_count": 65,
   "metadata": {
    "collapsed": true
   },
   "outputs": [],
   "source": [
    "import pandas as pd\n",
    "from sklearn.decomposition import PCA\n",
    "import numpy as np"
   ]
  },
  {
   "cell_type": "code",
   "execution_count": 56,
   "metadata": {
    "collapsed": true
   },
   "outputs": [],
   "source": [
    "df = pd.read_csv(\"concrete.csv\")"
   ]
  },
  {
   "cell_type": "code",
   "execution_count": 57,
   "metadata": {
    "collapsed": false
   },
   "outputs": [
    {
     "data": {
      "text/html": [
       "<div>\n",
       "<table border=\"1\" class=\"dataframe\">\n",
       "  <thead>\n",
       "    <tr style=\"text-align: right;\">\n",
       "      <th></th>\n",
       "      <th>cement</th>\n",
       "      <th>slag</th>\n",
       "      <th>ash</th>\n",
       "      <th>water</th>\n",
       "      <th>superplastic</th>\n",
       "      <th>coarseagg</th>\n",
       "      <th>fineagg</th>\n",
       "      <th>age</th>\n",
       "      <th>strength</th>\n",
       "    </tr>\n",
       "  </thead>\n",
       "  <tbody>\n",
       "    <tr>\n",
       "      <th>0</th>\n",
       "      <td>540.0</td>\n",
       "      <td>0.0</td>\n",
       "      <td>0.0</td>\n",
       "      <td>162.0</td>\n",
       "      <td>2.5</td>\n",
       "      <td>1040.0</td>\n",
       "      <td>676.0</td>\n",
       "      <td>28</td>\n",
       "      <td>79.99</td>\n",
       "    </tr>\n",
       "    <tr>\n",
       "      <th>1</th>\n",
       "      <td>540.0</td>\n",
       "      <td>0.0</td>\n",
       "      <td>0.0</td>\n",
       "      <td>162.0</td>\n",
       "      <td>2.5</td>\n",
       "      <td>1055.0</td>\n",
       "      <td>676.0</td>\n",
       "      <td>28</td>\n",
       "      <td>61.89</td>\n",
       "    </tr>\n",
       "    <tr>\n",
       "      <th>2</th>\n",
       "      <td>332.5</td>\n",
       "      <td>142.5</td>\n",
       "      <td>0.0</td>\n",
       "      <td>228.0</td>\n",
       "      <td>0.0</td>\n",
       "      <td>932.0</td>\n",
       "      <td>594.0</td>\n",
       "      <td>270</td>\n",
       "      <td>40.27</td>\n",
       "    </tr>\n",
       "    <tr>\n",
       "      <th>3</th>\n",
       "      <td>332.5</td>\n",
       "      <td>142.5</td>\n",
       "      <td>0.0</td>\n",
       "      <td>228.0</td>\n",
       "      <td>0.0</td>\n",
       "      <td>932.0</td>\n",
       "      <td>594.0</td>\n",
       "      <td>365</td>\n",
       "      <td>41.05</td>\n",
       "    </tr>\n",
       "    <tr>\n",
       "      <th>4</th>\n",
       "      <td>198.6</td>\n",
       "      <td>132.4</td>\n",
       "      <td>0.0</td>\n",
       "      <td>192.0</td>\n",
       "      <td>0.0</td>\n",
       "      <td>978.4</td>\n",
       "      <td>825.5</td>\n",
       "      <td>360</td>\n",
       "      <td>44.30</td>\n",
       "    </tr>\n",
       "  </tbody>\n",
       "</table>\n",
       "</div>"
      ],
      "text/plain": [
       "   cement   slag  ash  water  superplastic  coarseagg  fineagg  age  strength\n",
       "0   540.0    0.0  0.0  162.0           2.5     1040.0    676.0   28     79.99\n",
       "1   540.0    0.0  0.0  162.0           2.5     1055.0    676.0   28     61.89\n",
       "2   332.5  142.5  0.0  228.0           0.0      932.0    594.0  270     40.27\n",
       "3   332.5  142.5  0.0  228.0           0.0      932.0    594.0  365     41.05\n",
       "4   198.6  132.4  0.0  192.0           0.0      978.4    825.5  360     44.30"
      ]
     },
     "execution_count": 57,
     "metadata": {},
     "output_type": "execute_result"
    }
   ],
   "source": [
    "df.head()"
   ]
  },
  {
   "cell_type": "code",
   "execution_count": 66,
   "metadata": {
    "collapsed": false
   },
   "outputs": [
    {
     "name": "stdout",
     "output_type": "stream",
     "text": [
      "Varianza explicada con 1 componentes: 0.324912981545\n",
      "Varianza explicada con 2 componentes: 0.572433128251\n",
      "Varianza explicada con 3 componentes: 0.756005146663\n",
      "Varianza explicada con 4 componentes: 0.863007419816\n",
      "Varianza explicada con 5 componentes: 0.963442482825\n",
      "Varianza explicada con 6 componentes: 0.99538827368\n",
      "Varianza explicada con 7 componentes: 0.997959553583\n",
      "Varianza explicada con 8 componentes: 0.999716380907\n",
      "Varianza explicada con 9 componentes: 1.0\n"
     ]
    }
   ],
   "source": [
    "pca      = PCA(n_components = None)\n",
    "df_pca = pca.fit_transform(df)\n",
    "\n",
    "for i in range(np.shape(df_pca)[1]):\n",
    "    print \"Varianza explicada con\", i + 1, \"componentes:\", pca.explained_variance_ratio_[range(i + 1)].sum()"
   ]
  },
  {
   "cell_type": "markdown",
   "metadata": {},
   "source": [
    "Los resultados son los siguientes:\n",
    "\n",
    "| Número de componentes | Varianza explicada |\n",
    "|:--:|:--:|\n",
    "| 1 | 32,40% |\n",
    "| 2 | 57,24% |\n",
    "| 3 | 75,60% |\n",
    "| 4 | 86,30% |\n",
    "| 5 | 96,34% |\n",
    "| 6 | 99,54% |\n",
    "| 7 | 99,79% |\n",
    "| 8 | 99,97% |\n",
    "| 9 | 100% |"
   ]
  },
  {
   "cell_type": "markdown",
   "metadata": {},
   "source": [
    "Por lo tanto:\n",
    "\n",
    "* El 50% de la varianza se explica con 2 componentes.\n",
    "* El 75% de la varianza se explica con 3 componentes.\n",
    "* El 90% de la varianza se explica con 5 componentes.\n",
    "\n",
    "La primera componente principal explica el 32,40% de la variabilidad."
   ]
  },
  {
   "cell_type": "markdown",
   "metadata": {},
   "source": [
    "# Regresión de una función con Theano. (35 puntos) #\n",
    "\n",
    "## Este ejercicio, por realizarlo en la máquina virtual, está resuelto en un notebook aparte ##"
   ]
  }
 ],
 "metadata": {
  "anaconda-cloud": {},
  "kernelspec": {
   "display_name": "Python [conda root]",
   "language": "python",
   "name": "conda-root-py"
  },
  "language_info": {
   "codemirror_mode": {
    "name": "ipython",
    "version": 2
   },
   "file_extension": ".py",
   "mimetype": "text/x-python",
   "name": "python",
   "nbconvert_exporter": "python",
   "pygments_lexer": "ipython2",
   "version": "2.7.12"
  }
 },
 "nbformat": 4,
 "nbformat_minor": 1
}
