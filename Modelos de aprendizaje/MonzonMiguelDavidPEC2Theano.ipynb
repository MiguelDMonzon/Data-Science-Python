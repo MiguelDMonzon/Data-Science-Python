{
 "cells": [
  {
   "cell_type": "markdown",
   "metadata": {},
   "source": [
    "# Regresión de una función con Theano. (35 puntos) #\n",
    "\n",
    "Crear un conjunto de datos utilizando el siguiente código:\n",
    "\n",
    "    trX = np.linspace(-1, 1, 101)\n",
    "    trY = np.linspace(-1, 1, 101)\n",
    "    for i in range(len(trY)):\n",
    "        trY[i] = math.log(1 + 0.5 * abs(trX[i])) + trX[i] / 3 + np.random.randn() * 0.033\n",
    "    \n",
    "Ahora utilizar Theano para obtener los parámetros w_0 y w_1 del siguiente modelo:\n",
    "\n",
    "    y = log(1 + w 0 |x|) + w 1 x,\n",
    "    \n",
    "utilizando los datos generados anteriormente."
   ]
  },
  {
   "cell_type": "code",
   "execution_count": 9,
   "metadata": {
    "collapsed": false
   },
   "outputs": [],
   "source": [
    "import theano\n",
    "import theano.tensor as T\n",
    "import numpy as np\n",
    "import math"
   ]
  },
  {
   "cell_type": "markdown",
   "metadata": {
    "collapsed": true
   },
   "source": [
    "## Creando conjunto de datos ##"
   ]
  },
  {
   "cell_type": "code",
   "execution_count": 29,
   "metadata": {
    "collapsed": false
   },
   "outputs": [],
   "source": [
    "trX = np.linspace(-1, 1, 101)\n",
    "trY = np.linspace(-1, 1, 101)\n",
    "for i in range(len(trY)):\n",
    "    trY[i] = math.log(1 + 0.5 * abs(trX[i])) + trX[i] / 3 + np.random.randn() * 0.033"
   ]
  },
  {
   "cell_type": "markdown",
   "metadata": {},
   "source": [
    "## Objetivo: Calcular la siguiente expresión ##"
   ]
  },
  {
   "cell_type": "markdown",
   "metadata": {},
   "source": [
    "    y = log(1 + w_0 |x|) + w_1 x,"
   ]
  },
  {
   "cell_type": "code",
   "execution_count": 30,
   "metadata": {
    "collapsed": false
   },
   "outputs": [
    {
     "name": "stdout",
     "output_type": "stream",
     "text": [
      "En el paso 0 el valor de w_0 es 0.10472525104 y w_1 es 0.192881544098 con un coste 0.242245649577\n",
      "En el paso 1 el valor de w_0 es 0.197488411521 y w_1 es 0.287003420648 con un coste 0.129469437886\n",
      "En el paso 2 el valor de w_0 es 0.279466935142 y w_1 es 0.332100365221 con un coste 0.0807453828386\n",
      "En el paso 3 el valor de w_0 es 0.352230975339 y w_1 es 0.352952786708 con un coste 0.0567391951864\n",
      "En el paso 4 el valor de w_0 es 0.41725020985 y w_1 es 0.361895168652 con un coste 0.0433307126238\n",
      "En el paso 5 el valor de w_0 es 0.475766530188 y w_1 es 0.365055127326 con un coste 0.0349456101089\n",
      "En el paso 6 el valor de w_0 es 0.528791235832 y w_1 es 0.365466654892 con un coste 0.029181169835\n",
      "En el paso 7 el valor de w_0 es 0.577138467693 y w_1 es 0.364623615733 con un coste 0.0249167777287\n",
      "En el paso 8 el valor de w_0 es 0.621463869529 y w_1 es 0.363254657416 con un coste 0.0215899164004\n",
      "En el paso 9 el valor de w_0 es 0.662298688979 y w_1 es 0.361709452905 con un coste 0.0188968795061\n",
      "En el paso 10 el valor de w_0 es 0.700077218712 y w_1 es 0.360150965191 con un coste 0.0166610895457\n",
      "En el paso 11 el valor de w_0 es 0.735158053651 y w_1 es 0.358650953247 con un coste 0.0147720958219\n",
      "En el paso 12 el valor de w_0 es 0.767840311596 y w_1 es 0.357237257954 con un coste 0.0131559856554\n",
      "En el paso 13 el valor de w_0 es 0.79837596829 y w_1 es 0.355917092454 con un coste 0.0117603611121\n",
      "En el paso 14 el valor de w_0 es 0.826979265674 y w_1 es 0.354688418518 con un coste 0.0105463267338\n"
     ]
    }
   ],
   "source": [
    "X = T.scalar()\n",
    "Y = T.scalar()\n",
    "\n",
    "def model(X, w_0, w_1):\n",
    "    return T.log10(1 + w_0 * abs(X)) + w_1 * X\n",
    "\n",
    "w_0 = theano.shared(np.asarray(0., dtype = theano.config.floatX))\n",
    "w_1 = theano.shared(np.asarray(0., dtype = theano.config.floatX))\n",
    "y = model(X, w_0, w_1)\n",
    "\n",
    "cost     = T.mean(T.sqr(y - Y))\n",
    "gradient_w_0 = T.grad(cost = cost, wrt = w_0)\n",
    "gradient_w_1 = T.grad(cost = cost, wrt = w_1)\n",
    "updates  = [[w_0, w_0 - gradient_w_0 * 0.01], [w_1, w_1 - gradient_w_1 * 0.01]]\n",
    "\n",
    "train = theano.function(inputs = [X, Y], outputs = cost, updates = updates, allow_input_downcast = True)\n",
    "\n",
    "for i in range(15):\n",
    "    for x, y in zip(trX, trY):\n",
    "        cost_i = train(x, y)\n",
    "    print 'En el paso', i, 'el valor de w_0 es', w_0.get_value(), 'y w_1 es', w_1.get_value(), 'con un coste', cost_i"
   ]
  }
 ],
 "metadata": {
  "anaconda-cloud": {},
  "kernelspec": {
   "display_name": "Python [default]",
   "language": "python",
   "name": "python2"
  },
  "language_info": {
   "codemirror_mode": {
    "name": "ipython",
    "version": 2
   },
   "file_extension": ".py",
   "mimetype": "text/x-python",
   "name": "python",
   "nbconvert_exporter": "python",
   "pygments_lexer": "ipython2",
   "version": "2.7.12"
  }
 },
 "nbformat": 4,
 "nbformat_minor": 0
}
